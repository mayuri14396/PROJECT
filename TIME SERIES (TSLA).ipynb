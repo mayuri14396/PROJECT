{
 "cells": [
  {
   "cell_type": "code",
   "execution_count": 1,
   "id": "c9906a99",
   "metadata": {},
   "outputs": [],
   "source": [
    "# install pandas data reader"
   ]
  },
  {
   "cell_type": "code",
   "execution_count": 2,
   "id": "8a28147a",
   "metadata": {},
   "outputs": [
    {
     "name": "stdout",
     "output_type": "stream",
     "text": [
      "Requirement already satisfied: pandas-datareader in d:\\users\\admin\\anaconda3\\lib\\site-packages (0.10.0)\n",
      "Requirement already satisfied: lxml in d:\\users\\admin\\anaconda3\\lib\\site-packages (from pandas-datareader) (4.6.3)\n",
      "Requirement already satisfied: requests>=2.19.0 in d:\\users\\admin\\anaconda3\\lib\\site-packages (from pandas-datareader) (2.26.0)\n",
      "Requirement already satisfied: pandas>=0.23 in d:\\users\\admin\\anaconda3\\lib\\site-packages (from pandas-datareader) (1.3.4)\n",
      "Requirement already satisfied: numpy>=1.17.3 in d:\\users\\admin\\anaconda3\\lib\\site-packages (from pandas>=0.23->pandas-datareader) (1.20.3)\n",
      "Requirement already satisfied: python-dateutil>=2.7.3 in d:\\users\\admin\\anaconda3\\lib\\site-packages (from pandas>=0.23->pandas-datareader) (2.8.2)\n",
      "Requirement already satisfied: pytz>=2017.3 in d:\\users\\admin\\anaconda3\\lib\\site-packages (from pandas>=0.23->pandas-datareader) (2021.3)\n",
      "Requirement already satisfied: six>=1.5 in d:\\users\\admin\\anaconda3\\lib\\site-packages (from python-dateutil>=2.7.3->pandas>=0.23->pandas-datareader) (1.16.0)\n",
      "Requirement already satisfied: urllib3<1.27,>=1.21.1 in d:\\users\\admin\\anaconda3\\lib\\site-packages (from requests>=2.19.0->pandas-datareader) (1.26.7)\n",
      "Requirement already satisfied: idna<4,>=2.5 in d:\\users\\admin\\anaconda3\\lib\\site-packages (from requests>=2.19.0->pandas-datareader) (3.2)\n",
      "Requirement already satisfied: certifi>=2017.4.17 in d:\\users\\admin\\anaconda3\\lib\\site-packages (from requests>=2.19.0->pandas-datareader) (2021.10.8)\n",
      "Requirement already satisfied: charset-normalizer~=2.0.0 in d:\\users\\admin\\anaconda3\\lib\\site-packages (from requests>=2.19.0->pandas-datareader) (2.0.4)\n"
     ]
    }
   ],
   "source": [
    "! pip install pandas-datareader"
   ]
  },
  {
   "cell_type": "code",
   "execution_count": 3,
   "id": "6c47b0e8",
   "metadata": {},
   "outputs": [],
   "source": [
    "import pandas_datareader as pdr\n",
    "import pandas as pd \n",
    "from datetime import datetime"
   ]
  },
  {
   "cell_type": "code",
   "execution_count": 4,
   "id": "a3726c6c",
   "metadata": {},
   "outputs": [
    {
     "data": {
      "text/html": [
       "<div>\n",
       "<style scoped>\n",
       "    .dataframe tbody tr th:only-of-type {\n",
       "        vertical-align: middle;\n",
       "    }\n",
       "\n",
       "    .dataframe tbody tr th {\n",
       "        vertical-align: top;\n",
       "    }\n",
       "\n",
       "    .dataframe thead th {\n",
       "        text-align: right;\n",
       "    }\n",
       "</style>\n",
       "<table border=\"1\" class=\"dataframe\">\n",
       "  <thead>\n",
       "    <tr style=\"text-align: right;\">\n",
       "      <th></th>\n",
       "      <th>High</th>\n",
       "      <th>Low</th>\n",
       "      <th>Open</th>\n",
       "      <th>Close</th>\n",
       "      <th>Volume</th>\n",
       "      <th>Adj Close</th>\n",
       "    </tr>\n",
       "    <tr>\n",
       "      <th>Date</th>\n",
       "      <th></th>\n",
       "      <th></th>\n",
       "      <th></th>\n",
       "      <th></th>\n",
       "      <th></th>\n",
       "      <th></th>\n",
       "    </tr>\n",
       "  </thead>\n",
       "  <tbody>\n",
       "    <tr>\n",
       "      <th>2017-08-30</th>\n",
       "      <td>23.564667</td>\n",
       "      <td>23.133333</td>\n",
       "      <td>23.311333</td>\n",
       "      <td>23.545334</td>\n",
       "      <td>51193500.0</td>\n",
       "      <td>23.545334</td>\n",
       "    </tr>\n",
       "    <tr>\n",
       "      <th>2017-08-31</th>\n",
       "      <td>23.896000</td>\n",
       "      <td>23.521334</td>\n",
       "      <td>23.570000</td>\n",
       "      <td>23.726667</td>\n",
       "      <td>61092000.0</td>\n",
       "      <td>23.726667</td>\n",
       "    </tr>\n",
       "    <tr>\n",
       "      <th>2017-09-01</th>\n",
       "      <td>23.839333</td>\n",
       "      <td>23.579332</td>\n",
       "      <td>23.741333</td>\n",
       "      <td>23.693333</td>\n",
       "      <td>45742500.0</td>\n",
       "      <td>23.693333</td>\n",
       "    </tr>\n",
       "    <tr>\n",
       "      <th>2017-09-05</th>\n",
       "      <td>23.699333</td>\n",
       "      <td>23.059334</td>\n",
       "      <td>23.586666</td>\n",
       "      <td>23.306000</td>\n",
       "      <td>57526500.0</td>\n",
       "      <td>23.306000</td>\n",
       "    </tr>\n",
       "    <tr>\n",
       "      <th>2017-09-06</th>\n",
       "      <td>23.398666</td>\n",
       "      <td>22.770666</td>\n",
       "      <td>23.299999</td>\n",
       "      <td>22.968666</td>\n",
       "      <td>61371000.0</td>\n",
       "      <td>22.968666</td>\n",
       "    </tr>\n",
       "    <tr>\n",
       "      <th>...</th>\n",
       "      <td>...</td>\n",
       "      <td>...</td>\n",
       "      <td>...</td>\n",
       "      <td>...</td>\n",
       "      <td>...</td>\n",
       "      <td>...</td>\n",
       "    </tr>\n",
       "    <tr>\n",
       "      <th>2022-08-24</th>\n",
       "      <td>303.646667</td>\n",
       "      <td>296.500000</td>\n",
       "      <td>297.563324</td>\n",
       "      <td>297.096680</td>\n",
       "      <td>57259800.0</td>\n",
       "      <td>297.096680</td>\n",
       "    </tr>\n",
       "    <tr>\n",
       "      <th>2022-08-25</th>\n",
       "      <td>302.959991</td>\n",
       "      <td>291.600006</td>\n",
       "      <td>302.359985</td>\n",
       "      <td>296.070007</td>\n",
       "      <td>53230000.0</td>\n",
       "      <td>296.070007</td>\n",
       "    </tr>\n",
       "    <tr>\n",
       "      <th>2022-08-26</th>\n",
       "      <td>302.000000</td>\n",
       "      <td>287.470001</td>\n",
       "      <td>297.429993</td>\n",
       "      <td>288.089996</td>\n",
       "      <td>56905800.0</td>\n",
       "      <td>288.089996</td>\n",
       "    </tr>\n",
       "    <tr>\n",
       "      <th>2022-08-29</th>\n",
       "      <td>287.739990</td>\n",
       "      <td>280.700012</td>\n",
       "      <td>282.829987</td>\n",
       "      <td>284.820007</td>\n",
       "      <td>41728500.0</td>\n",
       "      <td>284.820007</td>\n",
       "    </tr>\n",
       "    <tr>\n",
       "      <th>2022-08-30</th>\n",
       "      <td>288.480011</td>\n",
       "      <td>280.109985</td>\n",
       "      <td>287.864990</td>\n",
       "      <td>281.494995</td>\n",
       "      <td>18947637.0</td>\n",
       "      <td>281.494995</td>\n",
       "    </tr>\n",
       "  </tbody>\n",
       "</table>\n",
       "<p>1259 rows × 6 columns</p>\n",
       "</div>"
      ],
      "text/plain": [
       "                  High         Low        Open       Close      Volume  \\\n",
       "Date                                                                     \n",
       "2017-08-30   23.564667   23.133333   23.311333   23.545334  51193500.0   \n",
       "2017-08-31   23.896000   23.521334   23.570000   23.726667  61092000.0   \n",
       "2017-09-01   23.839333   23.579332   23.741333   23.693333  45742500.0   \n",
       "2017-09-05   23.699333   23.059334   23.586666   23.306000  57526500.0   \n",
       "2017-09-06   23.398666   22.770666   23.299999   22.968666  61371000.0   \n",
       "...                ...         ...         ...         ...         ...   \n",
       "2022-08-24  303.646667  296.500000  297.563324  297.096680  57259800.0   \n",
       "2022-08-25  302.959991  291.600006  302.359985  296.070007  53230000.0   \n",
       "2022-08-26  302.000000  287.470001  297.429993  288.089996  56905800.0   \n",
       "2022-08-29  287.739990  280.700012  282.829987  284.820007  41728500.0   \n",
       "2022-08-30  288.480011  280.109985  287.864990  281.494995  18947637.0   \n",
       "\n",
       "             Adj Close  \n",
       "Date                    \n",
       "2017-08-30   23.545334  \n",
       "2017-08-31   23.726667  \n",
       "2017-09-01   23.693333  \n",
       "2017-09-05   23.306000  \n",
       "2017-09-06   22.968666  \n",
       "...                ...  \n",
       "2022-08-24  297.096680  \n",
       "2022-08-25  296.070007  \n",
       "2022-08-26  288.089996  \n",
       "2022-08-29  284.820007  \n",
       "2022-08-30  281.494995  \n",
       "\n",
       "[1259 rows x 6 columns]"
      ]
     },
     "execution_count": 4,
     "metadata": {},
     "output_type": "execute_result"
    }
   ],
   "source": [
    "pdr.get_data_yahoo('TSLA')"
   ]
  },
  {
   "cell_type": "code",
   "execution_count": 5,
   "id": "a3653e5c",
   "metadata": {},
   "outputs": [],
   "source": [
    "df_tesla=pdr.get_data_yahoo('TSLA')"
   ]
  },
  {
   "cell_type": "code",
   "execution_count": 6,
   "id": "6ddff4ab",
   "metadata": {},
   "outputs": [
    {
     "data": {
      "text/plain": [
       "pandas.core.frame.DataFrame"
      ]
     },
     "execution_count": 6,
     "metadata": {},
     "output_type": "execute_result"
    }
   ],
   "source": [
    "type(df_tesla)"
   ]
  },
  {
   "cell_type": "code",
   "execution_count": 7,
   "id": "1a988469",
   "metadata": {},
   "outputs": [
    {
     "data": {
      "text/html": [
       "<div>\n",
       "<style scoped>\n",
       "    .dataframe tbody tr th:only-of-type {\n",
       "        vertical-align: middle;\n",
       "    }\n",
       "\n",
       "    .dataframe tbody tr th {\n",
       "        vertical-align: top;\n",
       "    }\n",
       "\n",
       "    .dataframe thead th {\n",
       "        text-align: right;\n",
       "    }\n",
       "</style>\n",
       "<table border=\"1\" class=\"dataframe\">\n",
       "  <thead>\n",
       "    <tr style=\"text-align: right;\">\n",
       "      <th></th>\n",
       "      <th>High</th>\n",
       "      <th>Low</th>\n",
       "      <th>Open</th>\n",
       "      <th>Close</th>\n",
       "      <th>Volume</th>\n",
       "      <th>Adj Close</th>\n",
       "    </tr>\n",
       "    <tr>\n",
       "      <th>Date</th>\n",
       "      <th></th>\n",
       "      <th></th>\n",
       "      <th></th>\n",
       "      <th></th>\n",
       "      <th></th>\n",
       "      <th></th>\n",
       "    </tr>\n",
       "  </thead>\n",
       "  <tbody>\n",
       "    <tr>\n",
       "      <th>2017-08-30</th>\n",
       "      <td>23.564667</td>\n",
       "      <td>23.133333</td>\n",
       "      <td>23.311333</td>\n",
       "      <td>23.545334</td>\n",
       "      <td>51193500.0</td>\n",
       "      <td>23.545334</td>\n",
       "    </tr>\n",
       "    <tr>\n",
       "      <th>2017-08-31</th>\n",
       "      <td>23.896000</td>\n",
       "      <td>23.521334</td>\n",
       "      <td>23.570000</td>\n",
       "      <td>23.726667</td>\n",
       "      <td>61092000.0</td>\n",
       "      <td>23.726667</td>\n",
       "    </tr>\n",
       "    <tr>\n",
       "      <th>2017-09-01</th>\n",
       "      <td>23.839333</td>\n",
       "      <td>23.579332</td>\n",
       "      <td>23.741333</td>\n",
       "      <td>23.693333</td>\n",
       "      <td>45742500.0</td>\n",
       "      <td>23.693333</td>\n",
       "    </tr>\n",
       "    <tr>\n",
       "      <th>2017-09-05</th>\n",
       "      <td>23.699333</td>\n",
       "      <td>23.059334</td>\n",
       "      <td>23.586666</td>\n",
       "      <td>23.306000</td>\n",
       "      <td>57526500.0</td>\n",
       "      <td>23.306000</td>\n",
       "    </tr>\n",
       "    <tr>\n",
       "      <th>2017-09-06</th>\n",
       "      <td>23.398666</td>\n",
       "      <td>22.770666</td>\n",
       "      <td>23.299999</td>\n",
       "      <td>22.968666</td>\n",
       "      <td>61371000.0</td>\n",
       "      <td>22.968666</td>\n",
       "    </tr>\n",
       "  </tbody>\n",
       "</table>\n",
       "</div>"
      ],
      "text/plain": [
       "                 High        Low       Open      Close      Volume  Adj Close\n",
       "Date                                                                         \n",
       "2017-08-30  23.564667  23.133333  23.311333  23.545334  51193500.0  23.545334\n",
       "2017-08-31  23.896000  23.521334  23.570000  23.726667  61092000.0  23.726667\n",
       "2017-09-01  23.839333  23.579332  23.741333  23.693333  45742500.0  23.693333\n",
       "2017-09-05  23.699333  23.059334  23.586666  23.306000  57526500.0  23.306000\n",
       "2017-09-06  23.398666  22.770666  23.299999  22.968666  61371000.0  22.968666"
      ]
     },
     "execution_count": 7,
     "metadata": {},
     "output_type": "execute_result"
    }
   ],
   "source": [
    "df_tesla.head()"
   ]
  },
  {
   "cell_type": "code",
   "execution_count": 8,
   "id": "4cdb8939",
   "metadata": {},
   "outputs": [
    {
     "data": {
      "text/html": [
       "<div>\n",
       "<style scoped>\n",
       "    .dataframe tbody tr th:only-of-type {\n",
       "        vertical-align: middle;\n",
       "    }\n",
       "\n",
       "    .dataframe tbody tr th {\n",
       "        vertical-align: top;\n",
       "    }\n",
       "\n",
       "    .dataframe thead th {\n",
       "        text-align: right;\n",
       "    }\n",
       "</style>\n",
       "<table border=\"1\" class=\"dataframe\">\n",
       "  <thead>\n",
       "    <tr style=\"text-align: right;\">\n",
       "      <th></th>\n",
       "      <th>High</th>\n",
       "      <th>Low</th>\n",
       "      <th>Open</th>\n",
       "      <th>Close</th>\n",
       "      <th>Volume</th>\n",
       "      <th>Adj Close</th>\n",
       "    </tr>\n",
       "    <tr>\n",
       "      <th>Date</th>\n",
       "      <th></th>\n",
       "      <th></th>\n",
       "      <th></th>\n",
       "      <th></th>\n",
       "      <th></th>\n",
       "      <th></th>\n",
       "    </tr>\n",
       "  </thead>\n",
       "  <tbody>\n",
       "    <tr>\n",
       "      <th>2022-08-24</th>\n",
       "      <td>303.646667</td>\n",
       "      <td>296.500000</td>\n",
       "      <td>297.563324</td>\n",
       "      <td>297.096680</td>\n",
       "      <td>57259800.0</td>\n",
       "      <td>297.096680</td>\n",
       "    </tr>\n",
       "    <tr>\n",
       "      <th>2022-08-25</th>\n",
       "      <td>302.959991</td>\n",
       "      <td>291.600006</td>\n",
       "      <td>302.359985</td>\n",
       "      <td>296.070007</td>\n",
       "      <td>53230000.0</td>\n",
       "      <td>296.070007</td>\n",
       "    </tr>\n",
       "    <tr>\n",
       "      <th>2022-08-26</th>\n",
       "      <td>302.000000</td>\n",
       "      <td>287.470001</td>\n",
       "      <td>297.429993</td>\n",
       "      <td>288.089996</td>\n",
       "      <td>56905800.0</td>\n",
       "      <td>288.089996</td>\n",
       "    </tr>\n",
       "    <tr>\n",
       "      <th>2022-08-29</th>\n",
       "      <td>287.739990</td>\n",
       "      <td>280.700012</td>\n",
       "      <td>282.829987</td>\n",
       "      <td>284.820007</td>\n",
       "      <td>41728500.0</td>\n",
       "      <td>284.820007</td>\n",
       "    </tr>\n",
       "    <tr>\n",
       "      <th>2022-08-30</th>\n",
       "      <td>288.480011</td>\n",
       "      <td>280.109985</td>\n",
       "      <td>287.864990</td>\n",
       "      <td>281.494995</td>\n",
       "      <td>18947637.0</td>\n",
       "      <td>281.494995</td>\n",
       "    </tr>\n",
       "  </tbody>\n",
       "</table>\n",
       "</div>"
      ],
      "text/plain": [
       "                  High         Low        Open       Close      Volume  \\\n",
       "Date                                                                     \n",
       "2022-08-24  303.646667  296.500000  297.563324  297.096680  57259800.0   \n",
       "2022-08-25  302.959991  291.600006  302.359985  296.070007  53230000.0   \n",
       "2022-08-26  302.000000  287.470001  297.429993  288.089996  56905800.0   \n",
       "2022-08-29  287.739990  280.700012  282.829987  284.820007  41728500.0   \n",
       "2022-08-30  288.480011  280.109985  287.864990  281.494995  18947637.0   \n",
       "\n",
       "             Adj Close  \n",
       "Date                    \n",
       "2022-08-24  297.096680  \n",
       "2022-08-25  296.070007  \n",
       "2022-08-26  288.089996  \n",
       "2022-08-29  284.820007  \n",
       "2022-08-30  281.494995  "
      ]
     },
     "execution_count": 8,
     "metadata": {},
     "output_type": "execute_result"
    }
   ],
   "source": [
    "df_tesla.tail()"
   ]
  },
  {
   "cell_type": "code",
   "execution_count": 9,
   "id": "4021b4ba",
   "metadata": {},
   "outputs": [
    {
     "data": {
      "text/plain": [
       "<AxesSubplot:xlabel='Date'>"
      ]
     },
     "execution_count": 9,
     "metadata": {},
     "output_type": "execute_result"
    },
    {
     "data": {
      "image/png": "[encoded data removed]",
      "text/plain": [
       "<Figure size 432x288 with 1 Axes>"
      ]
     },
     "metadata": {
      "needs_background": "light"
     },
     "output_type": "display_data"
    }
   ],
   "source": [
    "df_tesla.plot()"
   ]
  },
  {
   "cell_type": "code",
   "execution_count": 10,
   "id": "d20439c1",
   "metadata": {},
   "outputs": [
    {
     "data": {
      "text/plain": [
       "<AxesSubplot:xlabel='Date'>"
      ]
     },
     "execution_count": 10,
     "metadata": {},
     "output_type": "execute_result"
    },
    {
     "data": {
      "image/png": "[encoded data removed]",
      "text/plain": [
       "<Figure size 864x288 with 1 Axes>"
      ]
     },
     "metadata": {
      "needs_background": "light"
     },
     "output_type": "display_data"
    }
   ],
   "source": [
    "df_tesla['High'].plot(figsize=(12,4))"
   ]
  },
  {
   "cell_type": "code",
   "execution_count": 11,
   "id": "585811be",
   "metadata": {},
   "outputs": [
    {
     "data": {
      "text/plain": [
       "<AxesSubplot:xlabel='Date'>"
      ]
     },
     "execution_count": 11,
     "metadata": {},
     "output_type": "execute_result"
    },
    {
     "data": {
      "image/png": "[encoded data removed]",
      "text/plain": [
       "<Figure size 864x288 with 1 Axes>"
      ]
     },
     "metadata": {
      "needs_background": "light"
     },
     "output_type": "display_data"
    }
   ],
   "source": [
    "# xlimit and ylimit\n",
    "df_tesla['High'].plot(xlim=['2020-01-01','2021-10-01'],ylim=[0,900],figsize=(12,4))"
   ]
  },
  {
   "cell_type": "code",
   "execution_count": 12,
   "id": "92465c23",
   "metadata": {},
   "outputs": [
    {
     "data": {
      "text/plain": [
       "<AxesSubplot:xlabel='Date'>"
      ]
     },
     "execution_count": 12,
     "metadata": {},
     "output_type": "execute_result"
    },
    {
     "data": {
      "image/png": "[encoded data removed]",
      "text/plain": [
       "<Figure size 864x288 with 1 Axes>"
      ]
     },
     "metadata": {
      "needs_background": "light"
     },
     "output_type": "display_data"
    }
   ],
   "source": [
    "#and ylimit and coloring\n",
    "df_tesla['High'].plot(xlim=['2020-01-01','2021-10-01'],ylim=[0,900],figsize=(12,4),c='green')"
   ]
  },
  {
   "cell_type": "code",
   "execution_count": 13,
   "id": "52b705d5",
   "metadata": {},
   "outputs": [
    {
     "data": {
      "text/plain": [
       "DatetimeIndex(['2017-08-30', '2017-08-31', '2017-09-01', '2017-09-05',\n",
       "               '2017-09-06', '2017-09-07', '2017-09-08', '2017-09-11',\n",
       "               '2017-09-12', '2017-09-13',\n",
       "               ...\n",
       "               '2022-08-17', '2022-08-18', '2022-08-19', '2022-08-22',\n",
       "               '2022-08-23', '2022-08-24', '2022-08-25', '2022-08-26',\n",
       "               '2022-08-29', '2022-08-30'],\n",
       "              dtype='datetime64[ns]', name='Date', length=1259, freq=None)"
      ]
     },
     "execution_count": 13,
     "metadata": {},
     "output_type": "execute_result"
    }
   ],
   "source": [
    "df_tesla.index"
   ]
  },
  {
   "cell_type": "code",
   "execution_count": 14,
   "id": "48e5e975",
   "metadata": {},
   "outputs": [
    {
     "data": {
      "text/plain": [
       "DatetimeIndex(['2020-01-02', '2020-01-03', '2020-01-06', '2020-01-07',\n",
       "               '2020-01-08', '2020-01-09', '2020-01-10', '2020-01-13',\n",
       "               '2020-01-14', '2020-01-15',\n",
       "               ...\n",
       "               '2021-09-20', '2021-09-21', '2021-09-22', '2021-09-23',\n",
       "               '2021-09-24', '2021-09-27', '2021-09-28', '2021-09-29',\n",
       "               '2021-09-30', '2021-10-01'],\n",
       "              dtype='datetime64[ns]', name='Date', length=442, freq=None)"
      ]
     },
     "execution_count": 14,
     "metadata": {},
     "output_type": "execute_result"
    }
   ],
   "source": [
    "df_tesla.loc['2020-01-01':'2021-10-01'].index"
   ]
  },
  {
   "cell_type": "code",
   "execution_count": 15,
   "id": "8a0e81e1",
   "metadata": {},
   "outputs": [],
   "source": [
    "index=df_tesla.loc['2020-01-01':'2021-10-01'].index\n",
    "share_open=df_tesla.loc['2020-01-01':'2021-10-01']['Open']"
   ]
  },
  {
   "cell_type": "code",
   "execution_count": 16,
   "id": "0d974134",
   "metadata": {},
   "outputs": [
    {
     "data": {
      "text/plain": [
       "Date\n",
       "2020-01-02     28.299999\n",
       "2020-01-03     29.366667\n",
       "2020-01-06     29.364668\n",
       "2020-01-07     30.760000\n",
       "2020-01-08     31.580000\n",
       "                 ...    \n",
       "2021-09-27    257.706665\n",
       "2021-09-28    262.399994\n",
       "2021-09-29    259.933319\n",
       "2021-09-30    260.333344\n",
       "2021-10-01    259.466675\n",
       "Name: Open, Length: 442, dtype: float64"
      ]
     },
     "execution_count": 16,
     "metadata": {},
     "output_type": "execute_result"
    }
   ],
   "source": [
    "share_open"
   ]
  },
  {
   "cell_type": "code",
   "execution_count": 17,
   "id": "37de87de",
   "metadata": {},
   "outputs": [
    {
     "data": {
      "text/plain": [
       "DatetimeIndex(['2020-01-02', '2020-01-03', '2020-01-06', '2020-01-07',\n",
       "               '2020-01-08', '2020-01-09', '2020-01-10', '2020-01-13',\n",
       "               '2020-01-14', '2020-01-15',\n",
       "               ...\n",
       "               '2021-09-20', '2021-09-21', '2021-09-22', '2021-09-23',\n",
       "               '2021-09-24', '2021-09-27', '2021-09-28', '2021-09-29',\n",
       "               '2021-09-30', '2021-10-01'],\n",
       "              dtype='datetime64[ns]', name='Date', length=442, freq=None)"
      ]
     },
     "execution_count": 17,
     "metadata": {},
     "output_type": "execute_result"
    }
   ],
   "source": [
    "index"
   ]
  },
  {
   "cell_type": "code",
   "execution_count": 18,
   "id": "8fd0aa81",
   "metadata": {},
   "outputs": [],
   "source": [
    "import matplotlib.pyplot as plt\n",
    "%matplotlib inline"
   ]
  },
  {
   "cell_type": "code",
   "execution_count": 19,
   "id": "cf0dd07c",
   "metadata": {},
   "outputs": [
    {
     "data": {
      "text/plain": [
       "[<matplotlib.lines.Line2D at 0x1dd97890f70>]"
      ]
     },
     "execution_count": 19,
     "metadata": {},
     "output_type": "execute_result"
    },
    {
     "data": {
      "image/png": "[encoded data removed]",
      "text/plain": [
       "<Figure size 432x288 with 1 Axes>"
      ]
     },
     "metadata": {
      "needs_background": "light"
     },
     "output_type": "display_data"
    }
   ],
   "source": [
    "figure,axis=plt.subplots()\n",
    "axis.plot(index,share_open)"
   ]
  },
  {
   "cell_type": "code",
   "execution_count": 20,
   "id": "4f1b4fef",
   "metadata": {},
   "outputs": [],
   "source": [
    "# datetime index"
   ]
  },
  {
   "cell_type": "code",
   "execution_count": 21,
   "id": "3989ee09",
   "metadata": {},
   "outputs": [
    {
     "name": "stdout",
     "output_type": "stream",
     "text": [
      "<class 'pandas.core.frame.DataFrame'>\n",
      "DatetimeIndex: 1259 entries, 2017-08-30 to 2022-08-30\n",
      "Data columns (total 6 columns):\n",
      " #   Column     Non-Null Count  Dtype  \n",
      "---  ------     --------------  -----  \n",
      " 0   High       1259 non-null   float64\n",
      " 1   Low        1259 non-null   float64\n",
      " 2   Open       1259 non-null   float64\n",
      " 3   Close      1259 non-null   float64\n",
      " 4   Volume     1259 non-null   float64\n",
      " 5   Adj Close  1259 non-null   float64\n",
      "dtypes: float64(6)\n",
      "memory usage: 101.1 KB\n"
     ]
    }
   ],
   "source": [
    "df_tesla.info()"
   ]
  },
  {
   "cell_type": "code",
   "execution_count": 22,
   "id": "8558c0ab",
   "metadata": {},
   "outputs": [
    {
     "data": {
      "text/html": [
       "<div>\n",
       "<style scoped>\n",
       "    .dataframe tbody tr th:only-of-type {\n",
       "        vertical-align: middle;\n",
       "    }\n",
       "\n",
       "    .dataframe tbody tr th {\n",
       "        vertical-align: top;\n",
       "    }\n",
       "\n",
       "    .dataframe thead th {\n",
       "        text-align: right;\n",
       "    }\n",
       "</style>\n",
       "<table border=\"1\" class=\"dataframe\">\n",
       "  <thead>\n",
       "    <tr style=\"text-align: right;\">\n",
       "      <th></th>\n",
       "      <th>Date</th>\n",
       "      <th>High</th>\n",
       "      <th>Low</th>\n",
       "      <th>Open</th>\n",
       "      <th>Close</th>\n",
       "      <th>Volume</th>\n",
       "      <th>Adj Close</th>\n",
       "    </tr>\n",
       "  </thead>\n",
       "  <tbody>\n",
       "    <tr>\n",
       "      <th>0</th>\n",
       "      <td>2017-08-30</td>\n",
       "      <td>23.564667</td>\n",
       "      <td>23.133333</td>\n",
       "      <td>23.311333</td>\n",
       "      <td>23.545334</td>\n",
       "      <td>51193500.0</td>\n",
       "      <td>23.545334</td>\n",
       "    </tr>\n",
       "    <tr>\n",
       "      <th>1</th>\n",
       "      <td>2017-08-31</td>\n",
       "      <td>23.896000</td>\n",
       "      <td>23.521334</td>\n",
       "      <td>23.570000</td>\n",
       "      <td>23.726667</td>\n",
       "      <td>61092000.0</td>\n",
       "      <td>23.726667</td>\n",
       "    </tr>\n",
       "    <tr>\n",
       "      <th>2</th>\n",
       "      <td>2017-09-01</td>\n",
       "      <td>23.839333</td>\n",
       "      <td>23.579332</td>\n",
       "      <td>23.741333</td>\n",
       "      <td>23.693333</td>\n",
       "      <td>45742500.0</td>\n",
       "      <td>23.693333</td>\n",
       "    </tr>\n",
       "    <tr>\n",
       "      <th>3</th>\n",
       "      <td>2017-09-05</td>\n",
       "      <td>23.699333</td>\n",
       "      <td>23.059334</td>\n",
       "      <td>23.586666</td>\n",
       "      <td>23.306000</td>\n",
       "      <td>57526500.0</td>\n",
       "      <td>23.306000</td>\n",
       "    </tr>\n",
       "    <tr>\n",
       "      <th>4</th>\n",
       "      <td>2017-09-06</td>\n",
       "      <td>23.398666</td>\n",
       "      <td>22.770666</td>\n",
       "      <td>23.299999</td>\n",
       "      <td>22.968666</td>\n",
       "      <td>61371000.0</td>\n",
       "      <td>22.968666</td>\n",
       "    </tr>\n",
       "    <tr>\n",
       "      <th>...</th>\n",
       "      <td>...</td>\n",
       "      <td>...</td>\n",
       "      <td>...</td>\n",
       "      <td>...</td>\n",
       "      <td>...</td>\n",
       "      <td>...</td>\n",
       "      <td>...</td>\n",
       "    </tr>\n",
       "    <tr>\n",
       "      <th>1254</th>\n",
       "      <td>2022-08-24</td>\n",
       "      <td>303.646667</td>\n",
       "      <td>296.500000</td>\n",
       "      <td>297.563324</td>\n",
       "      <td>297.096680</td>\n",
       "      <td>57259800.0</td>\n",
       "      <td>297.096680</td>\n",
       "    </tr>\n",
       "    <tr>\n",
       "      <th>1255</th>\n",
       "      <td>2022-08-25</td>\n",
       "      <td>302.959991</td>\n",
       "      <td>291.600006</td>\n",
       "      <td>302.359985</td>\n",
       "      <td>296.070007</td>\n",
       "      <td>53230000.0</td>\n",
       "      <td>296.070007</td>\n",
       "    </tr>\n",
       "    <tr>\n",
       "      <th>1256</th>\n",
       "      <td>2022-08-26</td>\n",
       "      <td>302.000000</td>\n",
       "      <td>287.470001</td>\n",
       "      <td>297.429993</td>\n",
       "      <td>288.089996</td>\n",
       "      <td>56905800.0</td>\n",
       "      <td>288.089996</td>\n",
       "    </tr>\n",
       "    <tr>\n",
       "      <th>1257</th>\n",
       "      <td>2022-08-29</td>\n",
       "      <td>287.739990</td>\n",
       "      <td>280.700012</td>\n",
       "      <td>282.829987</td>\n",
       "      <td>284.820007</td>\n",
       "      <td>41728500.0</td>\n",
       "      <td>284.820007</td>\n",
       "    </tr>\n",
       "    <tr>\n",
       "      <th>1258</th>\n",
       "      <td>2022-08-30</td>\n",
       "      <td>288.480011</td>\n",
       "      <td>280.109985</td>\n",
       "      <td>287.864990</td>\n",
       "      <td>281.494995</td>\n",
       "      <td>18947637.0</td>\n",
       "      <td>281.494995</td>\n",
       "    </tr>\n",
       "  </tbody>\n",
       "</table>\n",
       "<p>1259 rows × 7 columns</p>\n",
       "</div>"
      ],
      "text/plain": [
       "           Date        High         Low        Open       Close      Volume  \\\n",
       "0    2017-08-30   23.564667   23.133333   23.311333   23.545334  51193500.0   \n",
       "1    2017-08-31   23.896000   23.521334   23.570000   23.726667  61092000.0   \n",
       "2    2017-09-01   23.839333   23.579332   23.741333   23.693333  45742500.0   \n",
       "3    2017-09-05   23.699333   23.059334   23.586666   23.306000  57526500.0   \n",
       "4    2017-09-06   23.398666   22.770666   23.299999   22.968666  61371000.0   \n",
       "...         ...         ...         ...         ...         ...         ...   \n",
       "1254 2022-08-24  303.646667  296.500000  297.563324  297.096680  57259800.0   \n",
       "1255 2022-08-25  302.959991  291.600006  302.359985  296.070007  53230000.0   \n",
       "1256 2022-08-26  302.000000  287.470001  297.429993  288.089996  56905800.0   \n",
       "1257 2022-08-29  287.739990  280.700012  282.829987  284.820007  41728500.0   \n",
       "1258 2022-08-30  288.480011  280.109985  287.864990  281.494995  18947637.0   \n",
       "\n",
       "       Adj Close  \n",
       "0      23.545334  \n",
       "1      23.726667  \n",
       "2      23.693333  \n",
       "3      23.306000  \n",
       "4      22.968666  \n",
       "...          ...  \n",
       "1254  297.096680  \n",
       "1255  296.070007  \n",
       "1256  288.089996  \n",
       "1257  284.820007  \n",
       "1258  281.494995  \n",
       "\n",
       "[1259 rows x 7 columns]"
      ]
     },
     "execution_count": 22,
     "metadata": {},
     "output_type": "execute_result"
    }
   ],
   "source": [
    "df_tesla.reset_index()"
   ]
  },
  {
   "cell_type": "code",
   "execution_count": 23,
   "id": "ac133cd9",
   "metadata": {},
   "outputs": [],
   "source": [
    "from datetime import datetime"
   ]
  },
  {
   "cell_type": "code",
   "execution_count": 24,
   "id": "533646b7",
   "metadata": {},
   "outputs": [
    {
     "data": {
      "text/plain": [
       "datetime.datetime(2021, 11, 21, 0, 0)"
      ]
     },
     "execution_count": 24,
     "metadata": {},
     "output_type": "execute_result"
    }
   ],
   "source": [
    "datetime(2021,11,21)"
   ]
  },
  {
   "cell_type": "code",
   "execution_count": 25,
   "id": "b6623953",
   "metadata": {},
   "outputs": [
    {
     "data": {
      "text/plain": [
       "datetime.datetime(2022, 8, 30, 20, 56, 48, 598443)"
      ]
     },
     "execution_count": 25,
     "metadata": {},
     "output_type": "execute_result"
    }
   ],
   "source": [
    "datetime.now()"
   ]
  },
  {
   "cell_type": "code",
   "execution_count": 26,
   "id": "cecd7b76",
   "metadata": {},
   "outputs": [],
   "source": [
    "date=datetime(2021,11,21)"
   ]
  },
  {
   "cell_type": "code",
   "execution_count": 27,
   "id": "61df3112",
   "metadata": {},
   "outputs": [
    {
     "data": {
      "text/plain": [
       "datetime.datetime(2021, 11, 21, 0, 0)"
      ]
     },
     "execution_count": 27,
     "metadata": {},
     "output_type": "execute_result"
    }
   ],
   "source": [
    "date"
   ]
  },
  {
   "cell_type": "code",
   "execution_count": 28,
   "id": "aef24ce3",
   "metadata": {},
   "outputs": [
    {
     "data": {
      "text/plain": [
       "2021"
      ]
     },
     "execution_count": 28,
     "metadata": {},
     "output_type": "execute_result"
    }
   ],
   "source": [
    "date.year"
   ]
  },
  {
   "cell_type": "code",
   "execution_count": 29,
   "id": "06538aeb",
   "metadata": {},
   "outputs": [
    {
     "data": {
      "text/plain": [
       "11"
      ]
     },
     "execution_count": 29,
     "metadata": {},
     "output_type": "execute_result"
    }
   ],
   "source": [
    "date.month"
   ]
  },
  {
   "cell_type": "code",
   "execution_count": 30,
   "id": "c3bbeba1",
   "metadata": {},
   "outputs": [
    {
     "data": {
      "text/plain": [
       "datetime.date(2021, 11, 21)"
      ]
     },
     "execution_count": 30,
     "metadata": {},
     "output_type": "execute_result"
    }
   ],
   "source": [
    "date.date()"
   ]
  },
  {
   "cell_type": "code",
   "execution_count": 31,
   "id": "89668f27",
   "metadata": {},
   "outputs": [
    {
     "data": {
      "text/html": [
       "<div>\n",
       "<style scoped>\n",
       "    .dataframe tbody tr th:only-of-type {\n",
       "        vertical-align: middle;\n",
       "    }\n",
       "\n",
       "    .dataframe tbody tr th {\n",
       "        vertical-align: top;\n",
       "    }\n",
       "\n",
       "    .dataframe thead th {\n",
       "        text-align: right;\n",
       "    }\n",
       "</style>\n",
       "<table border=\"1\" class=\"dataframe\">\n",
       "  <thead>\n",
       "    <tr style=\"text-align: right;\">\n",
       "      <th></th>\n",
       "      <th>High</th>\n",
       "      <th>Low</th>\n",
       "      <th>Open</th>\n",
       "      <th>Close</th>\n",
       "      <th>Volume</th>\n",
       "      <th>Adj Close</th>\n",
       "    </tr>\n",
       "    <tr>\n",
       "      <th>Date</th>\n",
       "      <th></th>\n",
       "      <th></th>\n",
       "      <th></th>\n",
       "      <th></th>\n",
       "      <th></th>\n",
       "      <th></th>\n",
       "    </tr>\n",
       "  </thead>\n",
       "  <tbody>\n",
       "    <tr>\n",
       "      <th>2017-08-30</th>\n",
       "      <td>23.564667</td>\n",
       "      <td>23.133333</td>\n",
       "      <td>23.311333</td>\n",
       "      <td>23.545334</td>\n",
       "      <td>51193500.0</td>\n",
       "      <td>23.545334</td>\n",
       "    </tr>\n",
       "    <tr>\n",
       "      <th>2017-08-31</th>\n",
       "      <td>23.896000</td>\n",
       "      <td>23.521334</td>\n",
       "      <td>23.570000</td>\n",
       "      <td>23.726667</td>\n",
       "      <td>61092000.0</td>\n",
       "      <td>23.726667</td>\n",
       "    </tr>\n",
       "    <tr>\n",
       "      <th>2017-09-01</th>\n",
       "      <td>23.839333</td>\n",
       "      <td>23.579332</td>\n",
       "      <td>23.741333</td>\n",
       "      <td>23.693333</td>\n",
       "      <td>45742500.0</td>\n",
       "      <td>23.693333</td>\n",
       "    </tr>\n",
       "    <tr>\n",
       "      <th>2017-09-05</th>\n",
       "      <td>23.699333</td>\n",
       "      <td>23.059334</td>\n",
       "      <td>23.586666</td>\n",
       "      <td>23.306000</td>\n",
       "      <td>57526500.0</td>\n",
       "      <td>23.306000</td>\n",
       "    </tr>\n",
       "    <tr>\n",
       "      <th>2017-09-06</th>\n",
       "      <td>23.398666</td>\n",
       "      <td>22.770666</td>\n",
       "      <td>23.299999</td>\n",
       "      <td>22.968666</td>\n",
       "      <td>61371000.0</td>\n",
       "      <td>22.968666</td>\n",
       "    </tr>\n",
       "  </tbody>\n",
       "</table>\n",
       "</div>"
      ],
      "text/plain": [
       "                 High        Low       Open      Close      Volume  Adj Close\n",
       "Date                                                                         \n",
       "2017-08-30  23.564667  23.133333  23.311333  23.545334  51193500.0  23.545334\n",
       "2017-08-31  23.896000  23.521334  23.570000  23.726667  61092000.0  23.726667\n",
       "2017-09-01  23.839333  23.579332  23.741333  23.693333  45742500.0  23.693333\n",
       "2017-09-05  23.699333  23.059334  23.586666  23.306000  57526500.0  23.306000\n",
       "2017-09-06  23.398666  22.770666  23.299999  22.968666  61371000.0  22.968666"
      ]
     },
     "execution_count": 31,
     "metadata": {},
     "output_type": "execute_result"
    }
   ],
   "source": [
    "df_tesla.head()"
   ]
  },
  {
   "cell_type": "code",
   "execution_count": 32,
   "id": "0fe66176",
   "metadata": {},
   "outputs": [
    {
     "data": {
      "text/html": [
       "<div>\n",
       "<style scoped>\n",
       "    .dataframe tbody tr th:only-of-type {\n",
       "        vertical-align: middle;\n",
       "    }\n",
       "\n",
       "    .dataframe tbody tr th {\n",
       "        vertical-align: top;\n",
       "    }\n",
       "\n",
       "    .dataframe thead th {\n",
       "        text-align: right;\n",
       "    }\n",
       "</style>\n",
       "<table border=\"1\" class=\"dataframe\">\n",
       "  <thead>\n",
       "    <tr style=\"text-align: right;\">\n",
       "      <th></th>\n",
       "      <th>High</th>\n",
       "      <th>Low</th>\n",
       "      <th>Open</th>\n",
       "      <th>Close</th>\n",
       "      <th>Volume</th>\n",
       "      <th>Adj Close</th>\n",
       "    </tr>\n",
       "    <tr>\n",
       "      <th>Date</th>\n",
       "      <th></th>\n",
       "      <th></th>\n",
       "      <th></th>\n",
       "      <th></th>\n",
       "      <th></th>\n",
       "      <th></th>\n",
       "    </tr>\n",
       "  </thead>\n",
       "  <tbody>\n",
       "    <tr>\n",
       "      <th>2017-12-31</th>\n",
       "      <td>20.297333</td>\n",
       "      <td>19.508667</td>\n",
       "      <td>19.966667</td>\n",
       "      <td>19.950666</td>\n",
       "      <td>45742500.0</td>\n",
       "      <td>19.950666</td>\n",
       "    </tr>\n",
       "    <tr>\n",
       "      <th>2018-12-31</th>\n",
       "      <td>17.355333</td>\n",
       "      <td>16.306000</td>\n",
       "      <td>16.851999</td>\n",
       "      <td>16.704000</td>\n",
       "      <td>46210500.0</td>\n",
       "      <td>16.704000</td>\n",
       "    </tr>\n",
       "    <tr>\n",
       "      <th>2019-12-31</th>\n",
       "      <td>12.445333</td>\n",
       "      <td>11.799333</td>\n",
       "      <td>12.073333</td>\n",
       "      <td>11.931333</td>\n",
       "      <td>36984000.0</td>\n",
       "      <td>11.931333</td>\n",
       "    </tr>\n",
       "    <tr>\n",
       "      <th>2020-12-31</th>\n",
       "      <td>26.990667</td>\n",
       "      <td>23.367332</td>\n",
       "      <td>24.980000</td>\n",
       "      <td>24.081333</td>\n",
       "      <td>52073100.0</td>\n",
       "      <td>24.081333</td>\n",
       "    </tr>\n",
       "    <tr>\n",
       "      <th>2021-12-31</th>\n",
       "      <td>188.736664</td>\n",
       "      <td>179.830002</td>\n",
       "      <td>184.183334</td>\n",
       "      <td>187.666672</td>\n",
       "      <td>29401800.0</td>\n",
       "      <td>187.666672</td>\n",
       "    </tr>\n",
       "    <tr>\n",
       "      <th>2022-12-31</th>\n",
       "      <td>217.973328</td>\n",
       "      <td>206.856674</td>\n",
       "      <td>207.949997</td>\n",
       "      <td>209.386673</td>\n",
       "      <td>18947637.0</td>\n",
       "      <td>209.386673</td>\n",
       "    </tr>\n",
       "  </tbody>\n",
       "</table>\n",
       "</div>"
      ],
      "text/plain": [
       "                  High         Low        Open       Close      Volume  \\\n",
       "Date                                                                     \n",
       "2017-12-31   20.297333   19.508667   19.966667   19.950666  45742500.0   \n",
       "2018-12-31   17.355333   16.306000   16.851999   16.704000  46210500.0   \n",
       "2019-12-31   12.445333   11.799333   12.073333   11.931333  36984000.0   \n",
       "2020-12-31   26.990667   23.367332   24.980000   24.081333  52073100.0   \n",
       "2021-12-31  188.736664  179.830002  184.183334  187.666672  29401800.0   \n",
       "2022-12-31  217.973328  206.856674  207.949997  209.386673  18947637.0   \n",
       "\n",
       "             Adj Close  \n",
       "Date                    \n",
       "2017-12-31   19.950666  \n",
       "2018-12-31   16.704000  \n",
       "2019-12-31   11.931333  \n",
       "2020-12-31   24.081333  \n",
       "2021-12-31  187.666672  \n",
       "2022-12-31  209.386673  "
      ]
     },
     "execution_count": 32,
     "metadata": {},
     "output_type": "execute_result"
    }
   ],
   "source": [
    "df_tesla.resample(rule='A').min()"
   ]
  },
  {
   "cell_type": "code",
   "execution_count": 33,
   "id": "8a1d1007",
   "metadata": {},
   "outputs": [
    {
     "data": {
      "text/html": [
       "<div>\n",
       "<style scoped>\n",
       "    .dataframe tbody tr th:only-of-type {\n",
       "        vertical-align: middle;\n",
       "    }\n",
       "\n",
       "    .dataframe tbody tr th {\n",
       "        vertical-align: top;\n",
       "    }\n",
       "\n",
       "    .dataframe thead th {\n",
       "        text-align: right;\n",
       "    }\n",
       "</style>\n",
       "<table border=\"1\" class=\"dataframe\">\n",
       "  <thead>\n",
       "    <tr style=\"text-align: right;\">\n",
       "      <th></th>\n",
       "      <th>High</th>\n",
       "      <th>Low</th>\n",
       "      <th>Open</th>\n",
       "      <th>Close</th>\n",
       "      <th>Volume</th>\n",
       "      <th>Adj Close</th>\n",
       "    </tr>\n",
       "    <tr>\n",
       "      <th>Date</th>\n",
       "      <th></th>\n",
       "      <th></th>\n",
       "      <th></th>\n",
       "      <th></th>\n",
       "      <th></th>\n",
       "      <th></th>\n",
       "    </tr>\n",
       "  </thead>\n",
       "  <tbody>\n",
       "    <tr>\n",
       "      <th>2017-12-31</th>\n",
       "      <td>25.974001</td>\n",
       "      <td>25.178667</td>\n",
       "      <td>25.350000</td>\n",
       "      <td>25.666668</td>\n",
       "      <td>296871000.0</td>\n",
       "      <td>25.666668</td>\n",
       "    </tr>\n",
       "    <tr>\n",
       "      <th>2018-12-31</th>\n",
       "      <td>25.830667</td>\n",
       "      <td>24.474667</td>\n",
       "      <td>25.000000</td>\n",
       "      <td>25.304667</td>\n",
       "      <td>504745500.0</td>\n",
       "      <td>25.304667</td>\n",
       "    </tr>\n",
       "    <tr>\n",
       "      <th>2019-12-31</th>\n",
       "      <td>29.020666</td>\n",
       "      <td>28.423332</td>\n",
       "      <td>29.000000</td>\n",
       "      <td>28.729334</td>\n",
       "      <td>450091500.0</td>\n",
       "      <td>28.729334</td>\n",
       "    </tr>\n",
       "    <tr>\n",
       "      <th>2020-12-31</th>\n",
       "      <td>239.573334</td>\n",
       "      <td>230.373337</td>\n",
       "      <td>233.330002</td>\n",
       "      <td>235.223328</td>\n",
       "      <td>914082000.0</td>\n",
       "      <td>235.223328</td>\n",
       "    </tr>\n",
       "    <tr>\n",
       "      <th>2021-12-31</th>\n",
       "      <td>414.496674</td>\n",
       "      <td>405.666656</td>\n",
       "      <td>411.470001</td>\n",
       "      <td>409.970001</td>\n",
       "      <td>268189500.0</td>\n",
       "      <td>409.970001</td>\n",
       "    </tr>\n",
       "    <tr>\n",
       "      <th>2022-12-31</th>\n",
       "      <td>402.666656</td>\n",
       "      <td>378.679993</td>\n",
       "      <td>396.516663</td>\n",
       "      <td>399.926666</td>\n",
       "      <td>151565700.0</td>\n",
       "      <td>399.926666</td>\n",
       "    </tr>\n",
       "  </tbody>\n",
       "</table>\n",
       "</div>"
      ],
      "text/plain": [
       "                  High         Low        Open       Close       Volume  \\\n",
       "Date                                                                      \n",
       "2017-12-31   25.974001   25.178667   25.350000   25.666668  296871000.0   \n",
       "2018-12-31   25.830667   24.474667   25.000000   25.304667  504745500.0   \n",
       "2019-12-31   29.020666   28.423332   29.000000   28.729334  450091500.0   \n",
       "2020-12-31  239.573334  230.373337  233.330002  235.223328  914082000.0   \n",
       "2021-12-31  414.496674  405.666656  411.470001  409.970001  268189500.0   \n",
       "2022-12-31  402.666656  378.679993  396.516663  399.926666  151565700.0   \n",
       "\n",
       "             Adj Close  \n",
       "Date                    \n",
       "2017-12-31   25.666668  \n",
       "2018-12-31   25.304667  \n",
       "2019-12-31   28.729334  \n",
       "2020-12-31  235.223328  \n",
       "2021-12-31  409.970001  \n",
       "2022-12-31  399.926666  "
      ]
     },
     "execution_count": 33,
     "metadata": {},
     "output_type": "execute_result"
    }
   ],
   "source": [
    "df_tesla.resample(rule='A').max()"
   ]
  },
  {
   "cell_type": "code",
   "execution_count": 34,
   "id": "3ba617e6",
   "metadata": {},
   "outputs": [
    {
     "data": {
      "text/plain": [
       "<AxesSubplot:xlabel='Date'>"
      ]
     },
     "execution_count": 34,
     "metadata": {},
     "output_type": "execute_result"
    },
    {
     "data": {
      "image/png": "[encoded data removed]",
      "text/plain": [
       "<Figure size 432x288 with 1 Axes>"
      ]
     },
     "metadata": {
      "needs_background": "light"
     },
     "output_type": "display_data"
    }
   ],
   "source": [
    "df_tesla.resample(rule='A').min()['Open'].plot()"
   ]
  },
  {
   "cell_type": "code",
   "execution_count": 35,
   "id": "72e7143c",
   "metadata": {},
   "outputs": [
    {
     "data": {
      "text/html": [
       "<div>\n",
       "<style scoped>\n",
       "    .dataframe tbody tr th:only-of-type {\n",
       "        vertical-align: middle;\n",
       "    }\n",
       "\n",
       "    .dataframe tbody tr th {\n",
       "        vertical-align: top;\n",
       "    }\n",
       "\n",
       "    .dataframe thead th {\n",
       "        text-align: right;\n",
       "    }\n",
       "</style>\n",
       "<table border=\"1\" class=\"dataframe\">\n",
       "  <thead>\n",
       "    <tr style=\"text-align: right;\">\n",
       "      <th></th>\n",
       "      <th>High</th>\n",
       "      <th>Low</th>\n",
       "      <th>Open</th>\n",
       "      <th>Close</th>\n",
       "      <th>Volume</th>\n",
       "      <th>Adj Close</th>\n",
       "    </tr>\n",
       "    <tr>\n",
       "      <th>Date</th>\n",
       "      <th></th>\n",
       "      <th></th>\n",
       "      <th></th>\n",
       "      <th></th>\n",
       "      <th></th>\n",
       "      <th></th>\n",
       "    </tr>\n",
       "  </thead>\n",
       "  <tbody>\n",
       "    <tr>\n",
       "      <th>2017-07-01</th>\n",
       "      <td>22.850000</td>\n",
       "      <td>22.360001</td>\n",
       "      <td>22.658667</td>\n",
       "      <td>22.639999</td>\n",
       "      <td>45742500.0</td>\n",
       "      <td>22.639999</td>\n",
       "    </tr>\n",
       "    <tr>\n",
       "      <th>2017-10-01</th>\n",
       "      <td>20.297333</td>\n",
       "      <td>19.508667</td>\n",
       "      <td>19.966667</td>\n",
       "      <td>19.950666</td>\n",
       "      <td>48661500.0</td>\n",
       "      <td>19.950666</td>\n",
       "    </tr>\n",
       "    <tr>\n",
       "      <th>2018-01-01</th>\n",
       "      <td>17.912001</td>\n",
       "      <td>16.547333</td>\n",
       "      <td>17.099333</td>\n",
       "      <td>17.185333</td>\n",
       "      <td>48294000.0</td>\n",
       "      <td>17.185333</td>\n",
       "    </tr>\n",
       "    <tr>\n",
       "      <th>2018-04-01</th>\n",
       "      <td>17.355333</td>\n",
       "      <td>16.306000</td>\n",
       "      <td>16.851999</td>\n",
       "      <td>16.832001</td>\n",
       "      <td>58126500.0</td>\n",
       "      <td>16.832001</td>\n",
       "    </tr>\n",
       "    <tr>\n",
       "      <th>2018-07-01</th>\n",
       "      <td>17.889999</td>\n",
       "      <td>16.816668</td>\n",
       "      <td>17.340000</td>\n",
       "      <td>17.549334</td>\n",
       "      <td>54039000.0</td>\n",
       "      <td>17.549334</td>\n",
       "    </tr>\n",
       "    <tr>\n",
       "      <th>2018-10-01</th>\n",
       "      <td>17.457333</td>\n",
       "      <td>16.518000</td>\n",
       "      <td>17.016666</td>\n",
       "      <td>16.704000</td>\n",
       "      <td>46210500.0</td>\n",
       "      <td>16.704000</td>\n",
       "    </tr>\n",
       "    <tr>\n",
       "      <th>2019-01-01</th>\n",
       "      <td>17.545334</td>\n",
       "      <td>16.964001</td>\n",
       "      <td>17.313999</td>\n",
       "      <td>17.361334</td>\n",
       "      <td>55150500.0</td>\n",
       "      <td>17.361334</td>\n",
       "    </tr>\n",
       "    <tr>\n",
       "      <th>2019-04-01</th>\n",
       "      <td>12.445333</td>\n",
       "      <td>11.799333</td>\n",
       "      <td>12.073333</td>\n",
       "      <td>11.931333</td>\n",
       "      <td>76897500.0</td>\n",
       "      <td>11.931333</td>\n",
       "    </tr>\n",
       "    <tr>\n",
       "      <th>2019-07-01</th>\n",
       "      <td>14.334667</td>\n",
       "      <td>14.066667</td>\n",
       "      <td>14.240000</td>\n",
       "      <td>14.093333</td>\n",
       "      <td>48382500.0</td>\n",
       "      <td>14.093333</td>\n",
       "    </tr>\n",
       "    <tr>\n",
       "      <th>2019-10-01</th>\n",
       "      <td>15.632000</td>\n",
       "      <td>14.952000</td>\n",
       "      <td>15.320000</td>\n",
       "      <td>15.428667</td>\n",
       "      <td>36984000.0</td>\n",
       "      <td>15.428667</td>\n",
       "    </tr>\n",
       "    <tr>\n",
       "      <th>2020-01-01</th>\n",
       "      <td>26.990667</td>\n",
       "      <td>23.367332</td>\n",
       "      <td>24.980000</td>\n",
       "      <td>24.081333</td>\n",
       "      <td>142981500.0</td>\n",
       "      <td>24.081333</td>\n",
       "    </tr>\n",
       "    <tr>\n",
       "      <th>2020-04-01</th>\n",
       "      <td>32.950668</td>\n",
       "      <td>29.760000</td>\n",
       "      <td>32.068668</td>\n",
       "      <td>30.298000</td>\n",
       "      <td>95436000.0</td>\n",
       "      <td>30.298000</td>\n",
       "    </tr>\n",
       "    <tr>\n",
       "      <th>2020-07-01</th>\n",
       "      <td>75.688667</td>\n",
       "      <td>72.033333</td>\n",
       "      <td>72.199997</td>\n",
       "      <td>74.641998</td>\n",
       "      <td>74217000.0</td>\n",
       "      <td>74.641998</td>\n",
       "    </tr>\n",
       "    <tr>\n",
       "      <th>2020-10-01</th>\n",
       "      <td>135.660004</td>\n",
       "      <td>126.370003</td>\n",
       "      <td>131.333328</td>\n",
       "      <td>129.346664</td>\n",
       "      <td>52073100.0</td>\n",
       "      <td>129.346664</td>\n",
       "    </tr>\n",
       "    <tr>\n",
       "      <th>2021-01-01</th>\n",
       "      <td>205.493332</td>\n",
       "      <td>179.830002</td>\n",
       "      <td>200.183334</td>\n",
       "      <td>187.666672</td>\n",
       "      <td>45473100.0</td>\n",
       "      <td>187.666672</td>\n",
       "    </tr>\n",
       "    <tr>\n",
       "      <th>2021-04-01</th>\n",
       "      <td>188.736664</td>\n",
       "      <td>182.326660</td>\n",
       "      <td>184.183334</td>\n",
       "      <td>187.820007</td>\n",
       "      <td>48615900.0</td>\n",
       "      <td>187.820007</td>\n",
       "    </tr>\n",
       "    <tr>\n",
       "      <th>2021-07-01</th>\n",
       "      <td>215.733337</td>\n",
       "      <td>206.820007</td>\n",
       "      <td>209.456665</td>\n",
       "      <td>214.460007</td>\n",
       "      <td>29401800.0</td>\n",
       "      <td>214.460007</td>\n",
       "    </tr>\n",
       "    <tr>\n",
       "      <th>2021-10-01</th>\n",
       "      <td>260.260010</td>\n",
       "      <td>254.529999</td>\n",
       "      <td>258.733337</td>\n",
       "      <td>258.406677</td>\n",
       "      <td>35042700.0</td>\n",
       "      <td>258.406677</td>\n",
       "    </tr>\n",
       "    <tr>\n",
       "      <th>2022-01-01</th>\n",
       "      <td>266.899994</td>\n",
       "      <td>233.333328</td>\n",
       "      <td>233.463333</td>\n",
       "      <td>254.679993</td>\n",
       "      <td>48992700.0</td>\n",
       "      <td>254.679993</td>\n",
       "    </tr>\n",
       "    <tr>\n",
       "      <th>2022-04-01</th>\n",
       "      <td>217.973328</td>\n",
       "      <td>206.856674</td>\n",
       "      <td>207.949997</td>\n",
       "      <td>209.386673</td>\n",
       "      <td>49847700.0</td>\n",
       "      <td>209.386673</td>\n",
       "    </tr>\n",
       "    <tr>\n",
       "      <th>2022-07-01</th>\n",
       "      <td>230.229996</td>\n",
       "      <td>216.166672</td>\n",
       "      <td>223.000000</td>\n",
       "      <td>227.263336</td>\n",
       "      <td>18947637.0</td>\n",
       "      <td>227.263336</td>\n",
       "    </tr>\n",
       "  </tbody>\n",
       "</table>\n",
       "</div>"
      ],
      "text/plain": [
       "                  High         Low        Open       Close       Volume  \\\n",
       "Date                                                                      \n",
       "2017-07-01   22.850000   22.360001   22.658667   22.639999   45742500.0   \n",
       "2017-10-01   20.297333   19.508667   19.966667   19.950666   48661500.0   \n",
       "2018-01-01   17.912001   16.547333   17.099333   17.185333   48294000.0   \n",
       "2018-04-01   17.355333   16.306000   16.851999   16.832001   58126500.0   \n",
       "2018-07-01   17.889999   16.816668   17.340000   17.549334   54039000.0   \n",
       "2018-10-01   17.457333   16.518000   17.016666   16.704000   46210500.0   \n",
       "2019-01-01   17.545334   16.964001   17.313999   17.361334   55150500.0   \n",
       "2019-04-01   12.445333   11.799333   12.073333   11.931333   76897500.0   \n",
       "2019-07-01   14.334667   14.066667   14.240000   14.093333   48382500.0   \n",
       "2019-10-01   15.632000   14.952000   15.320000   15.428667   36984000.0   \n",
       "2020-01-01   26.990667   23.367332   24.980000   24.081333  142981500.0   \n",
       "2020-04-01   32.950668   29.760000   32.068668   30.298000   95436000.0   \n",
       "2020-07-01   75.688667   72.033333   72.199997   74.641998   74217000.0   \n",
       "2020-10-01  135.660004  126.370003  131.333328  129.346664   52073100.0   \n",
       "2021-01-01  205.493332  179.830002  200.183334  187.666672   45473100.0   \n",
       "2021-04-01  188.736664  182.326660  184.183334  187.820007   48615900.0   \n",
       "2021-07-01  215.733337  206.820007  209.456665  214.460007   29401800.0   \n",
       "2021-10-01  260.260010  254.529999  258.733337  258.406677   35042700.0   \n",
       "2022-01-01  266.899994  233.333328  233.463333  254.679993   48992700.0   \n",
       "2022-04-01  217.973328  206.856674  207.949997  209.386673   49847700.0   \n",
       "2022-07-01  230.229996  216.166672  223.000000  227.263336   18947637.0   \n",
       "\n",
       "             Adj Close  \n",
       "Date                    \n",
       "2017-07-01   22.639999  \n",
       "2017-10-01   19.950666  \n",
       "2018-01-01   17.185333  \n",
       "2018-04-01   16.832001  \n",
       "2018-07-01   17.549334  \n",
       "2018-10-01   16.704000  \n",
       "2019-01-01   17.361334  \n",
       "2019-04-01   11.931333  \n",
       "2019-07-01   14.093333  \n",
       "2019-10-01   15.428667  \n",
       "2020-01-01   24.081333  \n",
       "2020-04-01   30.298000  \n",
       "2020-07-01   74.641998  \n",
       "2020-10-01  129.346664  \n",
       "2021-01-01  187.666672  \n",
       "2021-04-01  187.820007  \n",
       "2021-07-01  214.460007  \n",
       "2021-10-01  258.406677  \n",
       "2022-01-01  254.679993  \n",
       "2022-04-01  209.386673  \n",
       "2022-07-01  227.263336  "
      ]
     },
     "execution_count": 35,
     "metadata": {},
     "output_type": "execute_result"
    }
   ],
   "source": [
    "# quartaerly stsrt frequency\n",
    "df_tesla.resample(rule='QS').min()"
   ]
  },
  {
   "cell_type": "code",
   "execution_count": 36,
   "id": "05521db9",
   "metadata": {},
   "outputs": [
    {
     "data": {
      "text/plain": [
       "<AxesSubplot:xlabel='Date'>"
      ]
     },
     "execution_count": 36,
     "metadata": {},
     "output_type": "execute_result"
    },
    {
     "data": {
      "image/png": "[encoded data removed]",
      "text/plain": [
       "<Figure size 432x288 with 1 Axes>"
      ]
     },
     "metadata": {
      "needs_background": "light"
     },
     "output_type": "display_data"
    }
   ],
   "source": [
    "df_tesla.resample(rule='A').min()['High'].plot()"
   ]
  },
  {
   "cell_type": "code",
   "execution_count": 37,
   "id": "e3e124c7",
   "metadata": {},
   "outputs": [
    {
     "data": {
      "text/plain": [
       "<AxesSubplot:xlabel='Date'>"
      ]
     },
     "execution_count": 37,
     "metadata": {},
     "output_type": "execute_result"
    },
    {
     "data": {
      "image/png": "[encoded data removed]",
      "text/plain": [
       "<Figure size 432x288 with 1 Axes>"
      ]
     },
     "metadata": {
      "needs_background": "light"
     },
     "output_type": "display_data"
    }
   ],
   "source": [
    "# bussiness and frequency\n",
    "df_tesla.resample(rule='BA').min()['High'].plot()"
   ]
  },
  {
   "cell_type": "code",
   "execution_count": 38,
   "id": "94bdb3e3",
   "metadata": {},
   "outputs": [
    {
     "data": {
      "text/html": [
       "<div>\n",
       "<style scoped>\n",
       "    .dataframe tbody tr th:only-of-type {\n",
       "        vertical-align: middle;\n",
       "    }\n",
       "\n",
       "    .dataframe tbody tr th {\n",
       "        vertical-align: top;\n",
       "    }\n",
       "\n",
       "    .dataframe thead th {\n",
       "        text-align: right;\n",
       "    }\n",
       "</style>\n",
       "<table border=\"1\" class=\"dataframe\">\n",
       "  <thead>\n",
       "    <tr style=\"text-align: right;\">\n",
       "      <th></th>\n",
       "      <th>High</th>\n",
       "      <th>Low</th>\n",
       "      <th>Open</th>\n",
       "      <th>Close</th>\n",
       "      <th>Volume</th>\n",
       "      <th>Adj Close</th>\n",
       "    </tr>\n",
       "    <tr>\n",
       "      <th>Date</th>\n",
       "      <th></th>\n",
       "      <th></th>\n",
       "      <th></th>\n",
       "      <th></th>\n",
       "      <th></th>\n",
       "      <th></th>\n",
       "    </tr>\n",
       "  </thead>\n",
       "  <tbody>\n",
       "    <tr>\n",
       "      <th>2017-07-03</th>\n",
       "      <td>25.974001</td>\n",
       "      <td>25.178667</td>\n",
       "      <td>25.350000</td>\n",
       "      <td>25.666668</td>\n",
       "      <td>122391000.0</td>\n",
       "      <td>25.666668</td>\n",
       "    </tr>\n",
       "    <tr>\n",
       "      <th>2017-10-02</th>\n",
       "      <td>24.200001</td>\n",
       "      <td>23.608667</td>\n",
       "      <td>23.798668</td>\n",
       "      <td>23.976667</td>\n",
       "      <td>296871000.0</td>\n",
       "      <td>23.976667</td>\n",
       "    </tr>\n",
       "    <tr>\n",
       "      <th>2018-01-01</th>\n",
       "      <td>24.033333</td>\n",
       "      <td>23.490667</td>\n",
       "      <td>24.000000</td>\n",
       "      <td>23.827999</td>\n",
       "      <td>315021000.0</td>\n",
       "      <td>23.827999</td>\n",
       "    </tr>\n",
       "    <tr>\n",
       "      <th>2018-04-02</th>\n",
       "      <td>24.915333</td>\n",
       "      <td>23.633333</td>\n",
       "      <td>24.344000</td>\n",
       "      <td>24.722000</td>\n",
       "      <td>335211000.0</td>\n",
       "      <td>24.722000</td>\n",
       "    </tr>\n",
       "    <tr>\n",
       "      <th>2018-07-02</th>\n",
       "      <td>25.830667</td>\n",
       "      <td>24.474667</td>\n",
       "      <td>24.606001</td>\n",
       "      <td>25.304667</td>\n",
       "      <td>504745500.0</td>\n",
       "      <td>25.304667</td>\n",
       "    </tr>\n",
       "    <tr>\n",
       "      <th>2018-10-01</th>\n",
       "      <td>25.299334</td>\n",
       "      <td>24.450001</td>\n",
       "      <td>25.000000</td>\n",
       "      <td>25.119333</td>\n",
       "      <td>411382500.0</td>\n",
       "      <td>25.119333</td>\n",
       "    </tr>\n",
       "    <tr>\n",
       "      <th>2019-01-01</th>\n",
       "      <td>23.466667</td>\n",
       "      <td>22.943333</td>\n",
       "      <td>23.080667</td>\n",
       "      <td>23.153999</td>\n",
       "      <td>362262000.0</td>\n",
       "      <td>23.153999</td>\n",
       "    </tr>\n",
       "    <tr>\n",
       "      <th>2019-04-01</th>\n",
       "      <td>19.744667</td>\n",
       "      <td>19.144667</td>\n",
       "      <td>19.219999</td>\n",
       "      <td>19.454000</td>\n",
       "      <td>398206500.0</td>\n",
       "      <td>19.454000</td>\n",
       "    </tr>\n",
       "    <tr>\n",
       "      <th>2019-07-01</th>\n",
       "      <td>17.738001</td>\n",
       "      <td>17.210667</td>\n",
       "      <td>17.278000</td>\n",
       "      <td>17.658667</td>\n",
       "      <td>336274500.0</td>\n",
       "      <td>17.658667</td>\n",
       "    </tr>\n",
       "    <tr>\n",
       "      <th>2019-10-01</th>\n",
       "      <td>29.020666</td>\n",
       "      <td>28.423332</td>\n",
       "      <td>29.000000</td>\n",
       "      <td>28.729334</td>\n",
       "      <td>450091500.0</td>\n",
       "      <td>28.729334</td>\n",
       "    </tr>\n",
       "    <tr>\n",
       "      <th>2020-01-01</th>\n",
       "      <td>64.599335</td>\n",
       "      <td>60.068001</td>\n",
       "      <td>61.566666</td>\n",
       "      <td>61.161331</td>\n",
       "      <td>914082000.0</td>\n",
       "      <td>61.161331</td>\n",
       "    </tr>\n",
       "    <tr>\n",
       "      <th>2020-04-01</th>\n",
       "      <td>72.512665</td>\n",
       "      <td>66.915337</td>\n",
       "      <td>67.518669</td>\n",
       "      <td>71.987335</td>\n",
       "      <td>487977000.0</td>\n",
       "      <td>71.987335</td>\n",
       "    </tr>\n",
       "    <tr>\n",
       "      <th>2020-07-01</th>\n",
       "      <td>167.496674</td>\n",
       "      <td>156.836670</td>\n",
       "      <td>167.380005</td>\n",
       "      <td>166.106674</td>\n",
       "      <td>584781000.0</td>\n",
       "      <td>166.106674</td>\n",
       "    </tr>\n",
       "    <tr>\n",
       "      <th>2020-10-01</th>\n",
       "      <td>239.573334</td>\n",
       "      <td>230.373337</td>\n",
       "      <td>233.330002</td>\n",
       "      <td>235.223328</td>\n",
       "      <td>666378600.0</td>\n",
       "      <td>235.223328</td>\n",
       "    </tr>\n",
       "    <tr>\n",
       "      <th>2021-01-01</th>\n",
       "      <td>300.133331</td>\n",
       "      <td>290.533325</td>\n",
       "      <td>297.126678</td>\n",
       "      <td>294.363342</td>\n",
       "      <td>268189500.0</td>\n",
       "      <td>294.363342</td>\n",
       "    </tr>\n",
       "    <tr>\n",
       "      <th>2021-04-01</th>\n",
       "      <td>260.263336</td>\n",
       "      <td>244.203339</td>\n",
       "      <td>256.899994</td>\n",
       "      <td>254.106674</td>\n",
       "      <td>147052200.0</td>\n",
       "      <td>254.106674</td>\n",
       "    </tr>\n",
       "    <tr>\n",
       "      <th>2021-07-01</th>\n",
       "      <td>266.333344</td>\n",
       "      <td>258.333344</td>\n",
       "      <td>262.399994</td>\n",
       "      <td>263.786682</td>\n",
       "      <td>100847400.0</td>\n",
       "      <td>263.786682</td>\n",
       "    </tr>\n",
       "    <tr>\n",
       "      <th>2021-10-01</th>\n",
       "      <td>414.496674</td>\n",
       "      <td>405.666656</td>\n",
       "      <td>411.470001</td>\n",
       "      <td>409.970001</td>\n",
       "      <td>188556300.0</td>\n",
       "      <td>409.970001</td>\n",
       "    </tr>\n",
       "    <tr>\n",
       "      <th>2022-01-03</th>\n",
       "      <td>402.666656</td>\n",
       "      <td>378.679993</td>\n",
       "      <td>396.516663</td>\n",
       "      <td>399.926666</td>\n",
       "      <td>151565700.0</td>\n",
       "      <td>399.926666</td>\n",
       "    </tr>\n",
       "    <tr>\n",
       "      <th>2022-04-01</th>\n",
       "      <td>384.290009</td>\n",
       "      <td>362.433319</td>\n",
       "      <td>378.766663</td>\n",
       "      <td>381.816681</td>\n",
       "      <td>144973200.0</td>\n",
       "      <td>381.816681</td>\n",
       "    </tr>\n",
       "    <tr>\n",
       "      <th>2022-07-01</th>\n",
       "      <td>314.666656</td>\n",
       "      <td>305.000000</td>\n",
       "      <td>311.666656</td>\n",
       "      <td>309.320007</td>\n",
       "      <td>142032300.0</td>\n",
       "      <td>309.320007</td>\n",
       "    </tr>\n",
       "  </tbody>\n",
       "</table>\n",
       "</div>"
      ],
      "text/plain": [
       "                  High         Low        Open       Close       Volume  \\\n",
       "Date                                                                      \n",
       "2017-07-03   25.974001   25.178667   25.350000   25.666668  122391000.0   \n",
       "2017-10-02   24.200001   23.608667   23.798668   23.976667  296871000.0   \n",
       "2018-01-01   24.033333   23.490667   24.000000   23.827999  315021000.0   \n",
       "2018-04-02   24.915333   23.633333   24.344000   24.722000  335211000.0   \n",
       "2018-07-02   25.830667   24.474667   24.606001   25.304667  504745500.0   \n",
       "2018-10-01   25.299334   24.450001   25.000000   25.119333  411382500.0   \n",
       "2019-01-01   23.466667   22.943333   23.080667   23.153999  362262000.0   \n",
       "2019-04-01   19.744667   19.144667   19.219999   19.454000  398206500.0   \n",
       "2019-07-01   17.738001   17.210667   17.278000   17.658667  336274500.0   \n",
       "2019-10-01   29.020666   28.423332   29.000000   28.729334  450091500.0   \n",
       "2020-01-01   64.599335   60.068001   61.566666   61.161331  914082000.0   \n",
       "2020-04-01   72.512665   66.915337   67.518669   71.987335  487977000.0   \n",
       "2020-07-01  167.496674  156.836670  167.380005  166.106674  584781000.0   \n",
       "2020-10-01  239.573334  230.373337  233.330002  235.223328  666378600.0   \n",
       "2021-01-01  300.133331  290.533325  297.126678  294.363342  268189500.0   \n",
       "2021-04-01  260.263336  244.203339  256.899994  254.106674  147052200.0   \n",
       "2021-07-01  266.333344  258.333344  262.399994  263.786682  100847400.0   \n",
       "2021-10-01  414.496674  405.666656  411.470001  409.970001  188556300.0   \n",
       "2022-01-03  402.666656  378.679993  396.516663  399.926666  151565700.0   \n",
       "2022-04-01  384.290009  362.433319  378.766663  381.816681  144973200.0   \n",
       "2022-07-01  314.666656  305.000000  311.666656  309.320007  142032300.0   \n",
       "\n",
       "             Adj Close  \n",
       "Date                    \n",
       "2017-07-03   25.666668  \n",
       "2017-10-02   23.976667  \n",
       "2018-01-01   23.827999  \n",
       "2018-04-02   24.722000  \n",
       "2018-07-02   25.304667  \n",
       "2018-10-01   25.119333  \n",
       "2019-01-01   23.153999  \n",
       "2019-04-01   19.454000  \n",
       "2019-07-01   17.658667  \n",
       "2019-10-01   28.729334  \n",
       "2020-01-01   61.161331  \n",
       "2020-04-01   71.987335  \n",
       "2020-07-01  166.106674  \n",
       "2020-10-01  235.223328  \n",
       "2021-01-01  294.363342  \n",
       "2021-04-01  254.106674  \n",
       "2021-07-01  263.786682  \n",
       "2021-10-01  409.970001  \n",
       "2022-01-03  399.926666  \n",
       "2022-04-01  381.816681  \n",
       "2022-07-01  309.320007  "
      ]
     },
     "execution_count": 38,
     "metadata": {},
     "output_type": "execute_result"
    }
   ],
   "source": [
    "df_tesla.resample(rule='BQS').max()"
   ]
  },
  {
   "cell_type": "code",
   "execution_count": 39,
   "id": "7a02fa96",
   "metadata": {},
   "outputs": [
    {
     "data": {
      "text/plain": [
       "<AxesSubplot:xlabel='Date'>"
      ]
     },
     "execution_count": 39,
     "metadata": {},
     "output_type": "execute_result"
    },
    {
     "data": {
      "image/png": "[encoded data removed]",
      "text/plain": [
       "<Figure size 432x288 with 1 Axes>"
      ]
     },
     "metadata": {
      "needs_background": "light"
     },
     "output_type": "display_data"
    }
   ],
   "source": [
    "# plotting\n",
    "df_tesla['Open'].resample(rule='A').min().plot(kind='bar')"
   ]
  },
  {
   "cell_type": "code",
   "execution_count": 40,
   "id": "e19544d7",
   "metadata": {},
   "outputs": [
    {
     "data": {
      "text/plain": [
       "<AxesSubplot:xlabel='Date'>"
      ]
     },
     "execution_count": 40,
     "metadata": {},
     "output_type": "execute_result"
    },
    {
     "data": {
      "image/png": "[encoded data removed]",
      "text/plain": [
       "<Figure size 1080x432 with 1 Axes>"
      ]
     },
     "metadata": {
      "needs_background": "light"
     },
     "output_type": "display_data"
    }
   ],
   "source": [
    "df_tesla['Open'].resample(rule='M').min().plot(kind='bar',figsize=(15,6))"
   ]
  },
  {
   "cell_type": "code",
   "execution_count": 41,
   "id": "a9cf609e",
   "metadata": {},
   "outputs": [
    {
     "data": {
      "text/plain": [
       "Rolling [window=10,center=False,axis=0,method=single]"
      ]
     },
     "execution_count": 41,
     "metadata": {},
     "output_type": "execute_result"
    }
   ],
   "source": [
    "df_tesla['High'].rolling(10)"
   ]
  },
  {
   "cell_type": "code",
   "execution_count": 42,
   "id": "29138f54",
   "metadata": {},
   "outputs": [
    {
     "data": {
      "text/plain": [
       "Date\n",
       "2017-08-30           NaN\n",
       "2017-08-31           NaN\n",
       "2017-09-01           NaN\n",
       "2017-09-05           NaN\n",
       "2017-09-06           NaN\n",
       "                 ...    \n",
       "2022-08-24    303.758664\n",
       "2022-08-25    304.230997\n",
       "2022-08-26    304.414996\n",
       "2022-08-29    301.875662\n",
       "2022-08-30    299.256998\n",
       "Name: High, Length: 1259, dtype: float64"
      ]
     },
     "execution_count": 42,
     "metadata": {},
     "output_type": "execute_result"
    }
   ],
   "source": [
    "df_tesla['High'].rolling(10).mean()"
   ]
  },
  {
   "cell_type": "code",
   "execution_count": 43,
   "id": "8d2576b5",
   "metadata": {},
   "outputs": [
    {
     "data": {
      "text/html": [
       "<div>\n",
       "<style scoped>\n",
       "    .dataframe tbody tr th:only-of-type {\n",
       "        vertical-align: middle;\n",
       "    }\n",
       "\n",
       "    .dataframe tbody tr th {\n",
       "        vertical-align: top;\n",
       "    }\n",
       "\n",
       "    .dataframe thead th {\n",
       "        text-align: right;\n",
       "    }\n",
       "</style>\n",
       "<table border=\"1\" class=\"dataframe\">\n",
       "  <thead>\n",
       "    <tr style=\"text-align: right;\">\n",
       "      <th></th>\n",
       "      <th>High</th>\n",
       "      <th>Low</th>\n",
       "      <th>Open</th>\n",
       "      <th>Close</th>\n",
       "      <th>Volume</th>\n",
       "      <th>Adj Close</th>\n",
       "    </tr>\n",
       "    <tr>\n",
       "      <th>Date</th>\n",
       "      <th></th>\n",
       "      <th></th>\n",
       "      <th></th>\n",
       "      <th></th>\n",
       "      <th></th>\n",
       "      <th></th>\n",
       "    </tr>\n",
       "  </thead>\n",
       "  <tbody>\n",
       "    <tr>\n",
       "      <th>2017-08-30</th>\n",
       "      <td>23.564667</td>\n",
       "      <td>23.133333</td>\n",
       "      <td>23.311333</td>\n",
       "      <td>23.545334</td>\n",
       "      <td>51193500.0</td>\n",
       "      <td>23.545334</td>\n",
       "    </tr>\n",
       "    <tr>\n",
       "      <th>2017-08-31</th>\n",
       "      <td>23.896000</td>\n",
       "      <td>23.521334</td>\n",
       "      <td>23.570000</td>\n",
       "      <td>23.726667</td>\n",
       "      <td>61092000.0</td>\n",
       "      <td>23.726667</td>\n",
       "    </tr>\n",
       "    <tr>\n",
       "      <th>2017-09-01</th>\n",
       "      <td>23.839333</td>\n",
       "      <td>23.579332</td>\n",
       "      <td>23.741333</td>\n",
       "      <td>23.693333</td>\n",
       "      <td>45742500.0</td>\n",
       "      <td>23.693333</td>\n",
       "    </tr>\n",
       "    <tr>\n",
       "      <th>2017-09-05</th>\n",
       "      <td>23.699333</td>\n",
       "      <td>23.059334</td>\n",
       "      <td>23.586666</td>\n",
       "      <td>23.306000</td>\n",
       "      <td>57526500.0</td>\n",
       "      <td>23.306000</td>\n",
       "    </tr>\n",
       "    <tr>\n",
       "      <th>2017-09-06</th>\n",
       "      <td>23.398666</td>\n",
       "      <td>22.770666</td>\n",
       "      <td>23.299999</td>\n",
       "      <td>22.968666</td>\n",
       "      <td>61371000.0</td>\n",
       "      <td>22.968666</td>\n",
       "    </tr>\n",
       "  </tbody>\n",
       "</table>\n",
       "</div>"
      ],
      "text/plain": [
       "                 High        Low       Open      Close      Volume  Adj Close\n",
       "Date                                                                         \n",
       "2017-08-30  23.564667  23.133333  23.311333  23.545334  51193500.0  23.545334\n",
       "2017-08-31  23.896000  23.521334  23.570000  23.726667  61092000.0  23.726667\n",
       "2017-09-01  23.839333  23.579332  23.741333  23.693333  45742500.0  23.693333\n",
       "2017-09-05  23.699333  23.059334  23.586666  23.306000  57526500.0  23.306000\n",
       "2017-09-06  23.398666  22.770666  23.299999  22.968666  61371000.0  22.968666"
      ]
     },
     "execution_count": 43,
     "metadata": {},
     "output_type": "execute_result"
    }
   ],
   "source": [
    "df_tesla.head()"
   ]
  },
  {
   "cell_type": "code",
   "execution_count": 44,
   "id": "a569cc89",
   "metadata": {},
   "outputs": [],
   "source": [
    "df_tesla['Open:30 days rolling']=df_tesla['Open'].rolling(30).mean()"
   ]
  },
  {
   "cell_type": "code",
   "execution_count": 45,
   "id": "bee1e007",
   "metadata": {},
   "outputs": [
    {
     "data": {
      "text/html": [
       "<div>\n",
       "<style scoped>\n",
       "    .dataframe tbody tr th:only-of-type {\n",
       "        vertical-align: middle;\n",
       "    }\n",
       "\n",
       "    .dataframe tbody tr th {\n",
       "        vertical-align: top;\n",
       "    }\n",
       "\n",
       "    .dataframe thead th {\n",
       "        text-align: right;\n",
       "    }\n",
       "</style>\n",
       "<table border=\"1\" class=\"dataframe\">\n",
       "  <thead>\n",
       "    <tr style=\"text-align: right;\">\n",
       "      <th></th>\n",
       "      <th>High</th>\n",
       "      <th>Low</th>\n",
       "      <th>Open</th>\n",
       "      <th>Close</th>\n",
       "      <th>Volume</th>\n",
       "      <th>Adj Close</th>\n",
       "      <th>Open:30 days rolling</th>\n",
       "    </tr>\n",
       "    <tr>\n",
       "      <th>Date</th>\n",
       "      <th></th>\n",
       "      <th></th>\n",
       "      <th></th>\n",
       "      <th></th>\n",
       "      <th></th>\n",
       "      <th></th>\n",
       "      <th></th>\n",
       "    </tr>\n",
       "  </thead>\n",
       "  <tbody>\n",
       "    <tr>\n",
       "      <th>2017-08-30</th>\n",
       "      <td>23.564667</td>\n",
       "      <td>23.133333</td>\n",
       "      <td>23.311333</td>\n",
       "      <td>23.545334</td>\n",
       "      <td>51193500.0</td>\n",
       "      <td>23.545334</td>\n",
       "      <td>NaN</td>\n",
       "    </tr>\n",
       "    <tr>\n",
       "      <th>2017-08-31</th>\n",
       "      <td>23.896000</td>\n",
       "      <td>23.521334</td>\n",
       "      <td>23.570000</td>\n",
       "      <td>23.726667</td>\n",
       "      <td>61092000.0</td>\n",
       "      <td>23.726667</td>\n",
       "      <td>NaN</td>\n",
       "    </tr>\n",
       "    <tr>\n",
       "      <th>2017-09-01</th>\n",
       "      <td>23.839333</td>\n",
       "      <td>23.579332</td>\n",
       "      <td>23.741333</td>\n",
       "      <td>23.693333</td>\n",
       "      <td>45742500.0</td>\n",
       "      <td>23.693333</td>\n",
       "      <td>NaN</td>\n",
       "    </tr>\n",
       "    <tr>\n",
       "      <th>2017-09-05</th>\n",
       "      <td>23.699333</td>\n",
       "      <td>23.059334</td>\n",
       "      <td>23.586666</td>\n",
       "      <td>23.306000</td>\n",
       "      <td>57526500.0</td>\n",
       "      <td>23.306000</td>\n",
       "      <td>NaN</td>\n",
       "    </tr>\n",
       "    <tr>\n",
       "      <th>2017-09-06</th>\n",
       "      <td>23.398666</td>\n",
       "      <td>22.770666</td>\n",
       "      <td>23.299999</td>\n",
       "      <td>22.968666</td>\n",
       "      <td>61371000.0</td>\n",
       "      <td>22.968666</td>\n",
       "      <td>NaN</td>\n",
       "    </tr>\n",
       "    <tr>\n",
       "      <th>2017-09-07</th>\n",
       "      <td>23.498667</td>\n",
       "      <td>22.896667</td>\n",
       "      <td>23.065332</td>\n",
       "      <td>23.374001</td>\n",
       "      <td>63588000.0</td>\n",
       "      <td>23.374001</td>\n",
       "      <td>NaN</td>\n",
       "    </tr>\n",
       "    <tr>\n",
       "      <th>2017-09-08</th>\n",
       "      <td>23.318666</td>\n",
       "      <td>22.820000</td>\n",
       "      <td>23.266001</td>\n",
       "      <td>22.893333</td>\n",
       "      <td>48952500.0</td>\n",
       "      <td>22.893333</td>\n",
       "      <td>NaN</td>\n",
       "    </tr>\n",
       "    <tr>\n",
       "      <th>2017-09-11</th>\n",
       "      <td>24.247334</td>\n",
       "      <td>23.333332</td>\n",
       "      <td>23.423332</td>\n",
       "      <td>24.246000</td>\n",
       "      <td>115006500.0</td>\n",
       "      <td>24.246000</td>\n",
       "      <td>NaN</td>\n",
       "    </tr>\n",
       "    <tr>\n",
       "      <th>2017-09-12</th>\n",
       "      <td>24.584000</td>\n",
       "      <td>24.026667</td>\n",
       "      <td>24.299334</td>\n",
       "      <td>24.183332</td>\n",
       "      <td>89593500.0</td>\n",
       "      <td>24.183332</td>\n",
       "      <td>NaN</td>\n",
       "    </tr>\n",
       "    <tr>\n",
       "      <th>2017-09-13</th>\n",
       "      <td>24.538000</td>\n",
       "      <td>23.972668</td>\n",
       "      <td>24.254667</td>\n",
       "      <td>24.415333</td>\n",
       "      <td>62778000.0</td>\n",
       "      <td>24.415333</td>\n",
       "      <td>NaN</td>\n",
       "    </tr>\n",
       "    <tr>\n",
       "      <th>2017-09-14</th>\n",
       "      <td>25.197332</td>\n",
       "      <td>24.175333</td>\n",
       "      <td>24.288668</td>\n",
       "      <td>25.176001</td>\n",
       "      <td>108037500.0</td>\n",
       "      <td>25.176001</td>\n",
       "      <td>NaN</td>\n",
       "    </tr>\n",
       "    <tr>\n",
       "      <th>2017-09-15</th>\n",
       "      <td>25.333332</td>\n",
       "      <td>24.846666</td>\n",
       "      <td>24.967333</td>\n",
       "      <td>25.320667</td>\n",
       "      <td>81307500.0</td>\n",
       "      <td>25.320667</td>\n",
       "      <td>NaN</td>\n",
       "    </tr>\n",
       "    <tr>\n",
       "      <th>2017-09-18</th>\n",
       "      <td>25.974001</td>\n",
       "      <td>25.178667</td>\n",
       "      <td>25.350000</td>\n",
       "      <td>25.666668</td>\n",
       "      <td>107820000.0</td>\n",
       "      <td>25.666668</td>\n",
       "      <td>NaN</td>\n",
       "    </tr>\n",
       "    <tr>\n",
       "      <th>2017-09-19</th>\n",
       "      <td>25.492666</td>\n",
       "      <td>24.904667</td>\n",
       "      <td>25.333332</td>\n",
       "      <td>25.006666</td>\n",
       "      <td>96778500.0</td>\n",
       "      <td>25.006666</td>\n",
       "      <td>NaN</td>\n",
       "    </tr>\n",
       "    <tr>\n",
       "      <th>2017-09-20</th>\n",
       "      <td>25.216667</td>\n",
       "      <td>24.738001</td>\n",
       "      <td>24.866667</td>\n",
       "      <td>24.927334</td>\n",
       "      <td>73786500.0</td>\n",
       "      <td>24.927334</td>\n",
       "      <td>NaN</td>\n",
       "    </tr>\n",
       "    <tr>\n",
       "      <th>2017-09-21</th>\n",
       "      <td>25.122000</td>\n",
       "      <td>24.300667</td>\n",
       "      <td>24.993334</td>\n",
       "      <td>24.431999</td>\n",
       "      <td>69273000.0</td>\n",
       "      <td>24.431999</td>\n",
       "      <td>NaN</td>\n",
       "    </tr>\n",
       "    <tr>\n",
       "      <th>2017-09-22</th>\n",
       "      <td>24.660000</td>\n",
       "      <td>23.392000</td>\n",
       "      <td>24.432667</td>\n",
       "      <td>23.406000</td>\n",
       "      <td>122391000.0</td>\n",
       "      <td>23.406000</td>\n",
       "      <td>NaN</td>\n",
       "    </tr>\n",
       "    <tr>\n",
       "      <th>2017-09-25</th>\n",
       "      <td>23.831333</td>\n",
       "      <td>22.858667</td>\n",
       "      <td>23.543333</td>\n",
       "      <td>22.999332</td>\n",
       "      <td>114088500.0</td>\n",
       "      <td>22.999332</td>\n",
       "      <td>NaN</td>\n",
       "    </tr>\n",
       "    <tr>\n",
       "      <th>2017-09-26</th>\n",
       "      <td>23.416000</td>\n",
       "      <td>22.726667</td>\n",
       "      <td>23.395332</td>\n",
       "      <td>23.016666</td>\n",
       "      <td>107344500.0</td>\n",
       "      <td>23.016666</td>\n",
       "      <td>NaN</td>\n",
       "    </tr>\n",
       "    <tr>\n",
       "      <th>2017-09-27</th>\n",
       "      <td>23.432667</td>\n",
       "      <td>22.700001</td>\n",
       "      <td>23.326668</td>\n",
       "      <td>22.731333</td>\n",
       "      <td>90904500.0</td>\n",
       "      <td>22.731333</td>\n",
       "      <td>NaN</td>\n",
       "    </tr>\n",
       "    <tr>\n",
       "      <th>2017-09-28</th>\n",
       "      <td>22.850000</td>\n",
       "      <td>22.360001</td>\n",
       "      <td>22.658667</td>\n",
       "      <td>22.639999</td>\n",
       "      <td>79794000.0</td>\n",
       "      <td>22.639999</td>\n",
       "      <td>NaN</td>\n",
       "    </tr>\n",
       "    <tr>\n",
       "      <th>2017-09-29</th>\n",
       "      <td>22.978666</td>\n",
       "      <td>22.573334</td>\n",
       "      <td>22.790667</td>\n",
       "      <td>22.740000</td>\n",
       "      <td>76606500.0</td>\n",
       "      <td>22.740000</td>\n",
       "      <td>NaN</td>\n",
       "    </tr>\n",
       "    <tr>\n",
       "      <th>2017-10-02</th>\n",
       "      <td>22.913334</td>\n",
       "      <td>22.367332</td>\n",
       "      <td>22.834667</td>\n",
       "      <td>22.768667</td>\n",
       "      <td>79302000.0</td>\n",
       "      <td>22.768667</td>\n",
       "      <td>NaN</td>\n",
       "    </tr>\n",
       "    <tr>\n",
       "      <th>2017-10-03</th>\n",
       "      <td>23.236668</td>\n",
       "      <td>22.085333</td>\n",
       "      <td>22.393333</td>\n",
       "      <td>23.209333</td>\n",
       "      <td>152304000.0</td>\n",
       "      <td>23.209333</td>\n",
       "      <td>NaN</td>\n",
       "    </tr>\n",
       "    <tr>\n",
       "      <th>2017-10-04</th>\n",
       "      <td>23.908001</td>\n",
       "      <td>23.306667</td>\n",
       "      <td>23.416668</td>\n",
       "      <td>23.667334</td>\n",
       "      <td>122452500.0</td>\n",
       "      <td>23.667334</td>\n",
       "      <td>NaN</td>\n",
       "    </tr>\n",
       "    <tr>\n",
       "      <th>2017-10-05</th>\n",
       "      <td>23.829332</td>\n",
       "      <td>23.423332</td>\n",
       "      <td>23.733334</td>\n",
       "      <td>23.688667</td>\n",
       "      <td>62575500.0</td>\n",
       "      <td>23.688667</td>\n",
       "      <td>NaN</td>\n",
       "    </tr>\n",
       "    <tr>\n",
       "      <th>2017-10-06</th>\n",
       "      <td>24.006666</td>\n",
       "      <td>23.483334</td>\n",
       "      <td>23.540001</td>\n",
       "      <td>23.792000</td>\n",
       "      <td>64462500.0</td>\n",
       "      <td>23.792000</td>\n",
       "      <td>NaN</td>\n",
       "    </tr>\n",
       "    <tr>\n",
       "      <th>2017-10-09</th>\n",
       "      <td>23.450001</td>\n",
       "      <td>22.844667</td>\n",
       "      <td>23.309999</td>\n",
       "      <td>22.862667</td>\n",
       "      <td>112405500.0</td>\n",
       "      <td>22.862667</td>\n",
       "      <td>NaN</td>\n",
       "    </tr>\n",
       "    <tr>\n",
       "      <th>2017-10-10</th>\n",
       "      <td>23.708668</td>\n",
       "      <td>23.035334</td>\n",
       "      <td>23.120001</td>\n",
       "      <td>23.705999</td>\n",
       "      <td>104677500.0</td>\n",
       "      <td>23.705999</td>\n",
       "      <td>NaN</td>\n",
       "    </tr>\n",
       "    <tr>\n",
       "      <th>2017-10-11</th>\n",
       "      <td>23.840000</td>\n",
       "      <td>23.410000</td>\n",
       "      <td>23.592667</td>\n",
       "      <td>23.639999</td>\n",
       "      <td>67512000.0</td>\n",
       "      <td>23.639999</td>\n",
       "      <td>23.723511</td>\n",
       "    </tr>\n",
       "    <tr>\n",
       "      <th>2017-10-12</th>\n",
       "      <td>23.985332</td>\n",
       "      <td>23.509333</td>\n",
       "      <td>23.530001</td>\n",
       "      <td>23.712000</td>\n",
       "      <td>61305000.0</td>\n",
       "      <td>23.712000</td>\n",
       "      <td>23.730800</td>\n",
       "    </tr>\n",
       "  </tbody>\n",
       "</table>\n",
       "</div>"
      ],
      "text/plain": [
       "                 High        Low       Open      Close       Volume  \\\n",
       "Date                                                                  \n",
       "2017-08-30  23.564667  23.133333  23.311333  23.545334   51193500.0   \n",
       "2017-08-31  23.896000  23.521334  23.570000  23.726667   61092000.0   \n",
       "2017-09-01  23.839333  23.579332  23.741333  23.693333   45742500.0   \n",
       "2017-09-05  23.699333  23.059334  23.586666  23.306000   57526500.0   \n",
       "2017-09-06  23.398666  22.770666  23.299999  22.968666   61371000.0   \n",
       "2017-09-07  23.498667  22.896667  23.065332  23.374001   63588000.0   \n",
       "2017-09-08  23.318666  22.820000  23.266001  22.893333   48952500.0   \n",
       "2017-09-11  24.247334  23.333332  23.423332  24.246000  115006500.0   \n",
       "2017-09-12  24.584000  24.026667  24.299334  24.183332   89593500.0   \n",
       "2017-09-13  24.538000  23.972668  24.254667  24.415333   62778000.0   \n",
       "2017-09-14  25.197332  24.175333  24.288668  25.176001  108037500.0   \n",
       "2017-09-15  25.333332  24.846666  24.967333  25.320667   81307500.0   \n",
       "2017-09-18  25.974001  25.178667  25.350000  25.666668  107820000.0   \n",
       "2017-09-19  25.492666  24.904667  25.333332  25.006666   96778500.0   \n",
       "2017-09-20  25.216667  24.738001  24.866667  24.927334   73786500.0   \n",
       "2017-09-21  25.122000  24.300667  24.993334  24.431999   69273000.0   \n",
       "2017-09-22  24.660000  23.392000  24.432667  23.406000  122391000.0   \n",
       "2017-09-25  23.831333  22.858667  23.543333  22.999332  114088500.0   \n",
       "2017-09-26  23.416000  22.726667  23.395332  23.016666  107344500.0   \n",
       "2017-09-27  23.432667  22.700001  23.326668  22.731333   90904500.0   \n",
       "2017-09-28  22.850000  22.360001  22.658667  22.639999   79794000.0   \n",
       "2017-09-29  22.978666  22.573334  22.790667  22.740000   76606500.0   \n",
       "2017-10-02  22.913334  22.367332  22.834667  22.768667   79302000.0   \n",
       "2017-10-03  23.236668  22.085333  22.393333  23.209333  152304000.0   \n",
       "2017-10-04  23.908001  23.306667  23.416668  23.667334  122452500.0   \n",
       "2017-10-05  23.829332  23.423332  23.733334  23.688667   62575500.0   \n",
       "2017-10-06  24.006666  23.483334  23.540001  23.792000   64462500.0   \n",
       "2017-10-09  23.450001  22.844667  23.309999  22.862667  112405500.0   \n",
       "2017-10-10  23.708668  23.035334  23.120001  23.705999  104677500.0   \n",
       "2017-10-11  23.840000  23.410000  23.592667  23.639999   67512000.0   \n",
       "2017-10-12  23.985332  23.509333  23.530001  23.712000   61305000.0   \n",
       "\n",
       "            Adj Close  Open:30 days rolling  \n",
       "Date                                         \n",
       "2017-08-30  23.545334                   NaN  \n",
       "2017-08-31  23.726667                   NaN  \n",
       "2017-09-01  23.693333                   NaN  \n",
       "2017-09-05  23.306000                   NaN  \n",
       "2017-09-06  22.968666                   NaN  \n",
       "2017-09-07  23.374001                   NaN  \n",
       "2017-09-08  22.893333                   NaN  \n",
       "2017-09-11  24.246000                   NaN  \n",
       "2017-09-12  24.183332                   NaN  \n",
       "2017-09-13  24.415333                   NaN  \n",
       "2017-09-14  25.176001                   NaN  \n",
       "2017-09-15  25.320667                   NaN  \n",
       "2017-09-18  25.666668                   NaN  \n",
       "2017-09-19  25.006666                   NaN  \n",
       "2017-09-20  24.927334                   NaN  \n",
       "2017-09-21  24.431999                   NaN  \n",
       "2017-09-22  23.406000                   NaN  \n",
       "2017-09-25  22.999332                   NaN  \n",
       "2017-09-26  23.016666                   NaN  \n",
       "2017-09-27  22.731333                   NaN  \n",
       "2017-09-28  22.639999                   NaN  \n",
       "2017-09-29  22.740000                   NaN  \n",
       "2017-10-02  22.768667                   NaN  \n",
       "2017-10-03  23.209333                   NaN  \n",
       "2017-10-04  23.667334                   NaN  \n",
       "2017-10-05  23.688667                   NaN  \n",
       "2017-10-06  23.792000                   NaN  \n",
       "2017-10-09  22.862667                   NaN  \n",
       "2017-10-10  23.705999                   NaN  \n",
       "2017-10-11  23.639999             23.723511  \n",
       "2017-10-12  23.712000             23.730800  "
      ]
     },
     "execution_count": 45,
     "metadata": {},
     "output_type": "execute_result"
    }
   ],
   "source": [
    "df_tesla.head(31)"
   ]
  },
  {
   "cell_type": "code",
   "execution_count": 46,
   "id": "f94e7b13",
   "metadata": {},
   "outputs": [
    {
     "data": {
      "text/plain": [
       "<AxesSubplot:xlabel='Date'>"
      ]
     },
     "execution_count": 46,
     "metadata": {},
     "output_type": "execute_result"
    },
    {
     "data": {
      "image/png": "[encoded data removed]",
      "text/plain": [
       "<Figure size 864x360 with 1 Axes>"
      ]
     },
     "metadata": {
      "needs_background": "light"
     },
     "output_type": "display_data"
    }
   ],
   "source": [
    "df_tesla[['Open','Open:30 days rolling']].plot(figsize=(12,5))"
   ]
  },
  {
   "cell_type": "code",
   "execution_count": 47,
   "id": "6fbd897c",
   "metadata": {},
   "outputs": [
    {
     "data": {
      "text/plain": [
       "<AxesSubplot:xlabel='Date'>"
      ]
     },
     "execution_count": 47,
     "metadata": {},
     "output_type": "execute_result"
    },
    {
     "data": {
      "image/png": "[encoded data removed]",
      "text/plain": [
       "<Figure size 864x360 with 1 Axes>"
      ]
     },
     "metadata": {
      "needs_background": "light"
     },
     "output_type": "display_data"
    }
   ],
   "source": [
    "# expanding\n",
    "df_tesla['Open'].expanding().mean().plot(figsize=(12,5))"
   ]
  },
  {
   "cell_type": "code",
   "execution_count": 48,
   "id": "8c368664",
   "metadata": {},
   "outputs": [],
   "source": [
    "# "
   ]
  }
 ],
 "metadata": {
  "kernelspec": {
   "display_name": "Python 3 (ipykernel)",
   "language": "python",
   "name": "python3"
  },
  "language_info": {
   "codemirror_mode": {
    "name": "ipython",
    "version": 3
   },
   "file_extension": ".py",
   "mimetype": "text/x-python",
   "name": "python",
   "nbconvert_exporter": "python",
   "pygments_lexer": "ipython3",
   "version": "3.9.7"
  }
 },
 "nbformat": 4,
 "nbformat_minor": 5
}
